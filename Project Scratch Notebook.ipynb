{
 "cells": [
  {
   "cell_type": "code",
   "execution_count": 3,
   "metadata": {},
   "outputs": [
    {
     "data": {
      "application/javascript": [
       "// Making sure the outputs display correctly\n",
       "IPython.OutputArea.prototype._should_scroll = function(lines) {\n",
       "    return false;\n",
       "}\n"
      ],
      "text/plain": [
       "<IPython.core.display.Javascript object>"
      ]
     },
     "metadata": {},
     "output_type": "display_data"
    }
   ],
   "source": [
    "%%javascript\n",
    "// Making sure the outputs display correctly\n",
    "IPython.OutputArea.prototype._should_scroll = function(lines) {\n",
    "    return false;\n",
    "}"
   ]
  },
  {
   "cell_type": "code",
   "execution_count": 12,
   "metadata": {},
   "outputs": [
    {
     "name": "stdout",
     "output_type": "stream",
     "text": [
      "C:\\Users\\butle175\\Downloads\\AAE537-master\n"
     ]
    }
   ],
   "source": [
    "# Importing required packages for this homework\n",
    "import numpy as np\n",
    "import matplotlib.pyplot as plt\n",
    "import pandas as pd\n",
    "import os\n",
    "#from IPython.display import HTML, display\n",
    "#import tabulate\n",
    "%matplotlib inline\n",
    "\n",
    "def rounds(item):\n",
    "    ret = float('%.1f'% (item * 10/10))\n",
    "    return(ret)\n",
    "\n",
    "path = os.getcwd()\n",
    "print(path)"
   ]
  },
  {
   "cell_type": "code",
   "execution_count": 4,
   "metadata": {},
   "outputs": [],
   "source": [
    "# Atmospheric model created using the NASA equation found at:\n",
    "# https://www.grc.nasa.gov/WWW/k-12/airplane/atmosmet.html\n",
    "class atmosphere:\n",
    "    def __init__(self, val, valGiven = 0,units = \"SI\"):\n",
    "        #Convert from US to SI\n",
    "        if units != \"SI\" and valGiven == 0:\n",
    "            val = val / 3.281\n",
    "        if units != \"SI\" and valGiven == 1:\n",
    "            val = val * 0.04788\n",
    "        #0 implies the given value is an altitude\n",
    "        #1 implies the given value is a pressure\n",
    "        if valGiven == 0:\n",
    "            self.h = val\n",
    "        elif valGiven == 1:\n",
    "            self.P = val\n",
    "        else:\n",
    "            print(\"Not a valid 'valGiven' parameter.\")\n",
    "    def hCalc(self):\n",
    "        if self.h < 11000:\n",
    "            self.T = 15.04 - 0.00649*self.h #K\n",
    "            self.P = 101.29 * ((self.T + 273.1)/288.08)**(5.256) #kPa\n",
    "        elif self.h < 25000:\n",
    "            self.T = -56.46\n",
    "            self.P = 22.65 * np.exp(1.73 - 0.000157*self.h)\n",
    "        elif self.h > 24999:\n",
    "            self.T = -131.21 + 0.00299*self.h\n",
    "            self.P = 2.488 * ((self.T + 273.1)/216.6)**(-11.388)\n",
    "        self.rho = self.P / (0.2869 * (self.T + 273.1))\n",
    "    def PCalc(self):\n",
    "        if self.P > 22.632:\n",
    "            self.T = (288.08*(self.P/101.29)**(1/5.256))-273.1\n",
    "            self.h = (self.T - 15.04)/(-0.00649)\n",
    "        elif self.P > 0.1113586:\n",
    "            self.T = -56.46\n",
    "            self.h = (1.73 - np.log((self.P/22.65)))/(0.000157)\n",
    "        else:\n",
    "            self.T = (216.6*(self.P/2.488)**(1/(-11.388)))-273.1\n",
    "            self.h = (self.T + 131.21)/0.00299\n",
    "        self.rho = self.P / (0.2869 * (self.T + 273.1))\n",
    "# ISENTROPIC RELATIONS\n",
    "def totPres(Ps, M,gamma=1.4):\n",
    "    total = Ps * ((1+((gamma-1)/2)*M**2)**(gamma/(gamma-1)))\n",
    "    return(total)\n",
    "def statPres(Pt, M, gamma=1.4):\n",
    "    static = Pt / ((1+((gamma-1)/2)*M**2)**(gamma/(gamma-1)))\n",
    "    return(static)\n",
    "def totTemp(Ts, M, gamma=1.4):\n",
    "    total = Ts * ((1+((gamma-1)/2)*M**2))\n",
    "    return(total)\n",
    "def statTemp(Tt, M, gamma=1.4):\n",
    "    static = Tt / ((1+((gamma-1)/2)*M**2))\n",
    "    return(static) "
   ]
  },
  {
   "cell_type": "code",
   "execution_count": 14,
   "metadata": {},
   "outputs": [
    {
     "name": "stdout",
     "output_type": "stream",
     "text": [
      "Fuselage: 22.3 cu meters\n",
      "Empty Space: 17.2 cu meters\n"
     ]
    }
   ],
   "source": [
    "#Getting the volume of the fuselodge\n",
    "#Vol = 1/3 pi (r1^2 + r1r2 + r2^2)h\n",
    "r1 = 24.59 * 0.0254 #meters\n",
    "r2 = 42.14 * 0.0254 #meters\n",
    "h = 379.73 * 0.0254 #meters\n",
    "fuseV = (1./3.)*np.pi*(r1**2 + r1*r2 + r2**2)*h\n",
    "print(\"Fuselage:\", rounds(fuseV), \"cu meters\")\n",
    "\n",
    "#Value of the heat exchanger\n",
    "exchR = 0.5\n",
    "exchL = 0.92\n",
    "oneExchV = np.pi*exchR**2*exchL\n",
    "#Double the volume for the other two exchanger\n",
    "exchV = oneExchV * 2\n",
    "\n",
    "#Volume of compressors & turbines\n",
    "volComp = np.pi * 0.25**2 * 0.5\n",
    "volTurb = np.pi * 0.25**2 * 0.1\n",
    "volMachinery = volComp*2 + volTurb*3\n",
    "\n",
    "emptyV = fuseV - (exchV + volMachinery)\n",
    "emptyV *= 0.8\n",
    "#print(np.floor(emptyV))\n",
    "\n",
    "topFoilV = 17.192 * 0.0283168 * 0.75\n",
    "botFoilV = 16.159 * 0.0283168 * 0.75\n",
    "tailFoilV = 2.946 * 0.0283168 * 0.75\n",
    "emptyV += topFoilV + botFoilV + tailFoilV\n",
    "print(\"Empty Space:\", rounds(emptyV),\"cu meters\")"
   ]
  },
  {
   "cell_type": "code",
   "execution_count": 19,
   "metadata": {},
   "outputs": [
    {
     "name": "stdout",
     "output_type": "stream",
     "text": [
      "Dry mass: 3094.6933622704005\n"
     ]
    }
   ],
   "source": [
    "## GETTING MASSES\n",
    "turbMass = 58.4 #kg\n",
    "compMass = 73.5 #kg\n",
    "vehEmpMass = 5051.142 * 0.453592 #kg\n",
    "exchMass = 100 #kg, very rough\n",
    "totMass = exchMass *2 + turbMass * 3 + compMass *2 + vehEmpMass\n",
    "totMass *= 1.10\n",
    "print(\"Dry mass:\",totMass)\n",
    "\n",
    "#print(8192.8*0.453592)"
   ]
  }
 ],
 "metadata": {
  "kernelspec": {
   "display_name": "Python 3",
   "language": "python",
   "name": "python3"
  },
  "language_info": {
   "codemirror_mode": {
    "name": "ipython",
    "version": 3
   },
   "file_extension": ".py",
   "mimetype": "text/x-python",
   "name": "python",
   "nbconvert_exporter": "python",
   "pygments_lexer": "ipython3",
   "version": "3.7.1"
  }
 },
 "nbformat": 4,
 "nbformat_minor": 2
}
