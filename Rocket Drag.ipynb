{
 "cells": [
  {
   "cell_type": "code",
   "execution_count": 4,
   "metadata": {},
   "outputs": [
    {
     "data": {
      "application/javascript": [
       "// Making sure the outputs display correctly\n",
       "IPython.OutputArea.prototype._should_scroll = function(lines) {\n",
       "    return false;\n",
       "}\n"
      ],
      "text/plain": [
       "<IPython.core.display.Javascript object>"
      ]
     },
     "metadata": {},
     "output_type": "display_data"
    }
   ],
   "source": [
    "%%javascript\n",
    "// Making sure the outputs display correctly\n",
    "IPython.OutputArea.prototype._should_scroll = function(lines) {\n",
    "    return false;\n",
    "}"
   ]
  },
  {
   "cell_type": "code",
   "execution_count": 5,
   "metadata": {},
   "outputs": [
    {
     "name": "stdout",
     "output_type": "stream",
     "text": [
      "C:\\Users\\butle175\\Downloads\\rocketProp-master\n"
     ]
    }
   ],
   "source": [
    "# Importing required packages for this homework\n",
    "import numpy as np\n",
    "import matplotlib.pyplot as plt\n",
    "import pandas as pd\n",
    "import os\n",
    "#from IPython.display import HTML, display\n",
    "#import tabulate\n",
    "%matplotlib inline\n",
    "\n",
    "def rounds(item):\n",
    "    ret = float('%.2f'% (item * 100/100))\n",
    "    return(ret)\n",
    "\n",
    "path = os.getcwd()\n",
    "print(path)"
   ]
  },
  {
   "cell_type": "code",
   "execution_count": 6,
   "metadata": {},
   "outputs": [],
   "source": [
    "# https://www.grc.nasa.gov/WWW/k-12/airplane/atmosmet.html\n",
    "class atmosphere:\n",
    "    def __init__(self, val, valGiven = 0,units = \"SI\"):\n",
    "        #Convert from US to SI\n",
    "        if units != \"SI\" and valGiven == 0:\n",
    "            val = val / 3.281\n",
    "        if units != \"SI\" and valGiven == 1:\n",
    "            val = val * 0.04788\n",
    "        #0 implies the given value is an altitude\n",
    "        #1 implies the given value is a pressure\n",
    "        if valGiven == 0:\n",
    "            self.h = val\n",
    "        elif valGiven == 1:\n",
    "            self.P = val\n",
    "        else:\n",
    "            print(\"Not a valid 'valGiven' parameter.\")\n",
    "    def hCalc(self):\n",
    "        if self.h < 11000:\n",
    "            self.T = 15.04 - 0.00649*self.h #K\n",
    "            self.P = 101.29 * ((self.T + 273.1)/288.08)**(5.256) #kPa\n",
    "        elif self.h < 25000:\n",
    "            self.T = -56.46\n",
    "            self.P = 22.65 * np.exp(1.73 - 0.000157*self.h)\n",
    "        elif self.h > 24999:\n",
    "            self.T = -131.21 + 0.00299*self.h\n",
    "            self.P = 2.488 * ((self.T + 273.1)/216.6)**(-11.388)\n",
    "        self.rho = self.P / (0.2869 * (self.T + 273.1))\n",
    "    def PCalc(self):\n",
    "        if self.P > 22.632:\n",
    "            self.T = (288.08*(self.P/101.29)**(1/5.256))-273.1\n",
    "            self.h = (self.T - 15.04)/(-0.00649)\n",
    "        elif self.P > 0.1113586:\n",
    "            self.T = -56.46\n",
    "            self.h = (1.73 - np.log((self.P/22.65)))/(0.000157)\n",
    "        else:\n",
    "            self.T = (216.6*(self.P/2.488)**(1/(-11.388)))-273.1\n",
    "            self.h = (self.T + 131.21)/0.00299\n",
    "        self.rho = self.P / (0.2869 * (self.T + 273.1))"
   ]
  },
  {
   "cell_type": "code",
   "execution_count": 7,
   "metadata": {},
   "outputs": [
    {
     "name": "stdout",
     "output_type": "stream",
     "text": [
      "diameter: 0.0687231044270804\n",
      "falling area (US): 0.06074218991561928\n",
      "Falling area: 0.06074218991561928 sq meters\n",
      "0.24524641988318885\n"
     ]
    }
   ],
   "source": [
    "#Finding angle it is falling at\n",
    "angRad = 195 #pixels\n",
    "angX = 124 #pixels\n",
    "theta = np.arccos(124/195)\n",
    "#print(rounds(theta),'radians')\n",
    "#From flat going down\n",
    "thetaFlat = np.pi - theta - np.pi/2\n",
    "#print(rounds(thetaFlat))\n",
    "\n",
    "Afin = (17.537 * 0.0254 ** 2)*np.cos(thetaFlat) #sq in\n",
    "\n",
    "radRock = (8.5 / (np.pi * 2)) * 0.0254 #m\n",
    "print(\"diameter:\",(radRock*2)) #meters\n",
    "lenNose = 9 * 0.0254 #m\n",
    "lenBody = 30 * 0.0254 #m\n",
    "Aflat = (radRock**2 * np.pi)+(radRock*2*lenBody)\n",
    "Abody = Aflat * np.cos(thetaFlat) #sq in\n",
    "\n",
    "totAreaFalling = Abody + Afin*2\n",
    "print('falling area (US):', totAreaFalling)\n",
    "print('Falling area:',totAreaFalling,'sq meters')\n",
    "print((11*0.0254)**2*np.pi)"
   ]
  },
  {
   "cell_type": "code",
   "execution_count": 8,
   "metadata": {},
   "outputs": [
    {
     "name": "stdout",
     "output_type": "stream",
     "text": [
      "7.073425647864539\n"
     ]
    }
   ],
   "source": [
    "## Cd with parachute\n",
    "CdPara = (2 * 4.44822) / (1.229 * (0.06074 + ((11*0.0254)**2*np.pi)) * (1.8288**2))\n",
    "print(CdPara)"
   ]
  },
  {
   "cell_type": "code",
   "execution_count": 48,
   "metadata": {},
   "outputs": [
    {
     "name": "stdout",
     "output_type": "stream",
     "text": [
      "Regression coefficients: [[ 6.76331346e-02]\n",
      " [-3.16725650e+01]\n",
      " [ 7.89256250e+03]]\n",
      "Graph reading: 6948.296750032716\n",
      "Reynolds: 2258196.4437606325\n"
     ]
    }
   ],
   "source": [
    "#Cubic regression\n",
    "def cubReg(points):\n",
    "    n = len(points)\n",
    "    X = [item[0] for item in points]\n",
    "    Y = [item[1] for item in points]\n",
    "    Sx = sum(X)\n",
    "    Sy = sum(Y)\n",
    "    S2x = sum([item**2 for item in X])\n",
    "    S3x = sum([item**3 for item in X])\n",
    "    S4x = sum([item**4 for item in X])\n",
    "    S5x = sum([item**5 for item in X])\n",
    "    S6x = sum([item**6 for item in X])\n",
    "    Sxy = sum([X[i] * Y[i] for i in range(n)])\n",
    "    S2xy = sum([X[i]**2 * Y[i] for i in range(n)])\n",
    "    S3xy = sum([X[i]**3 * Y[i] for i in range(n)])\n",
    "    A = [[S6x,S5x,S4x,S3x],[S5x,S4x,S3x,S2x],[S4x,S3x,S2x,Sx],[S3x,S2x,Sx,n]]\n",
    "    b = [[S3xy],[S2xy],[Sxy],[Sy]]\n",
    "    coef = np.linalg.solve(A, b)\n",
    "    return(coef)\n",
    "#Logarithmic Regression\n",
    "def logReg(points):\n",
    "    n = len(points)\n",
    "    X = [item[0] for item in points]\n",
    "    Y = [item[1] for item in points]\n",
    "    Sx = sum([np.log(item) for item in X])\n",
    "    Sy = sum(item for item in Y)\n",
    "    S2x = Sx**2\n",
    "    nSx2 = n*sum([(np.log(item))**2 for item in X])\n",
    "    nSyx = n * sum([Y[i]*np.log(X[i]) for i in range(n)])\n",
    "    SySx = Sx * Sy\n",
    "    b = (\n",
    "        (nSyx - SySx)/\n",
    "        (nSx2 - S2x)\n",
    "    )\n",
    "    a = ( \n",
    "        (Sy - b*Sx)/\n",
    "        n\n",
    "    )\n",
    "    return([a,b])\n",
    "    \n",
    "#Reynolds numbers for alt=0 in meters\n",
    "Rey0 = [[0,7900],[22,7200],\n",
    "        [40,6750],[60,6200],\n",
    "        [80,5800],[100,5400],\n",
    "       [38,6800],[54,6400]]\n",
    "alt0 = cubReg(Rey0)\n",
    "print(\"Regression coefficients:\",alt0)\n",
    "\n",
    "#test figure\n",
    "Read = alt0[0][0]*32**2 + alt0[1][0]*32 + alt0[2][0]\n",
    "print(\"Graph reading:\",Read)\n",
    "print(\"Reynolds:\",Read*(39/12)*100)"
   ]
  },
  {
   "cell_type": "code",
   "execution_count": 139,
   "metadata": {},
   "outputs": [
    {
     "name": "stdout",
     "output_type": "stream",
     "text": [
      "0.0014847491370598605\n",
      "0.0037516378348074722\n"
     ]
    }
   ],
   "source": [
    "#Coefficient of friction values (Turbulant)\n",
    "CfT = [[130000,0.006],[1650000,0.004],\n",
    "      [160000,.0058],[320000,0.0052],\n",
    "      [2700000,0.0037],[7000000,0.0032]]\n",
    "CfTReg = logReg(CfT)\n",
    "\n",
    "#Coefficient of friction values (Laminar)\n",
    "CfL = [[50000,0.006],[440000,0.002],\n",
    "       [900000,0.0014],[700000,0.0016],\n",
    "      [200000,0.003],\n",
    "      [92000,0.0044],\n",
    "      [1800000,0.001],[2200000,0.00092],\n",
    "      [1050000,0.0013],[1450000,0.0011],\n",
    "      [1900000,0.00096],[44000,0.0064],\n",
    "      [86000,0.0046],[1200000,0.0012],\n",
    "      [1600000,0.00105],[1750000,.001],\n",
    "      [975000,0.0014]]\n",
    "\n",
    "CfLReg = logReg(CfL)\n",
    "\n",
    "print(0.664/np.sqrt(200000))\n",
    "print(0.027/(1000000)**(1/7))"
   ]
  },
  {
   "cell_type": "code",
   "execution_count": 108,
   "metadata": {},
   "outputs": [
    {
     "name": "stdout",
     "output_type": "stream",
     "text": [
      "53.2\n"
     ]
    }
   ],
   "source": [
    "#Wet surface area to Body surface area\n",
    "SwSbtNose = 8.8\n",
    "SwSbtBody = 44.4\n",
    "SwSbt = SwSbtNose + SwSbtBody\n",
    "print(SwSbt)"
   ]
  },
  {
   "cell_type": "code",
   "execution_count": 140,
   "metadata": {},
   "outputs": [
    {
     "name": "stdout",
     "output_type": "stream",
     "text": [
      "rey: 9032785.77504253\n",
      "Coefficient of drag for 32F and 400 ft/s:\n",
      " 0.1510095301285275\n"
     ]
    }
   ],
   "source": [
    "#####################################\n",
    "##       START OF CODE FILE        ##\n",
    "#####################################\n",
    "\n",
    "##### DON'T CHANGE THESE #####\n",
    "#Wet surface area to body surface area\n",
    "SwSbt = 52.6\n",
    "# Length over radius\n",
    "Ld = 39/2.705634\n",
    "# Length of the rocket\n",
    "L = 39/12 #feet\n",
    "# Diameter of rocket\n",
    "D = 2.705634 #inches\n",
    "\n",
    "##### CHANGE THIS ON DAY #####\n",
    "T = 32 #Farenheit\n",
    "\n",
    "##### REGRESSIONS AND FUNCTIONS #####\n",
    "#Quadratic Regression for Determining Reynolds Number\n",
    "## Temperatures are in Kelvin\n",
    "## Re = aT^2 + bT + c\n",
    "a = alt0[0][0]\n",
    "b = alt0[1][0]\n",
    "c = alt0[2][0]\n",
    "#Find the unit value of Reynolds from temprature in kelvin\n",
    "def reynolds(T,vel, L = (39/12)):\n",
    "    ReUnit = a*T**2 + b*T + c\n",
    "    #print('Reading:',ReUnit)\n",
    "    Re = ReUnit * vel * L\n",
    "    return(Re)\n",
    "\n",
    "#Linear regression of turbulant coefficient \n",
    "## of friction from Reynolds.\n",
    "## Take values directly from above\n",
    "## Cf = m(Re) + b\n",
    "def CfTurbSolve(Re):\n",
    "    #From the regression above\n",
    "    Cf = CfTReg[0] + CfTReg[1]*np.log(Re)\n",
    "    return(Cf)\n",
    "\n",
    "#Linear regression of  Laminar coefficient \n",
    "## of friction from Reynolds.\n",
    "## Take values directly from above\n",
    "## Cf = m(Re) + b\n",
    "def CfLamSolve(Re):\n",
    "    #From the regressions above\n",
    "    Cf = CfLReg[0] + CfLReg[1]*np.log(Re)\n",
    "    return(Cf)\n",
    "\n",
    "#Velo = 100 * 3.28\n",
    "#test = reynolds(280,Velo)\n",
    "#print(test)\n",
    "#del(test)\n",
    "\n",
    "# Calculating Cd from these values\n",
    "def Cd(T, vel, Laminar=True,L=(39/12),):\n",
    "    Rey = reynolds(T,vel,L)\n",
    "    print(\"rey:\",Rey)\n",
    "    if Laminar:\n",
    "        #Using Blasius Solution\n",
    "        Cf = 0.664/np.sqrt(Rey)\n",
    "    else:\n",
    "        #Using Prandtl's one-seventh power law\n",
    "        Cf = 0.027/(Rey**(1/7))\n",
    "    Cd = 1.02 * Cf * (1 + \n",
    "                      (1.5 / (Ld)**(3/2))\n",
    "                     ) * SwSbt\n",
    "    return(Cd)\n",
    "\n",
    "#v = np.linspace(0,300,10)\n",
    "#for item in v:\n",
    "#    print(\"Cd for \",item,\" ft/s \\n\",Cd(32,item))\n",
    "\n",
    "'''\n",
    "You can build a for loop around the Cd function and \n",
    "from there determine the coefficient of drag for every speed\n",
    "you might find along the trajectory\n",
    "'''\n",
    "\n",
    "#Example case\n",
    "v = 400\n",
    "testCase = Cd(T,v,Laminar=False)\n",
    "print(\"Coefficient of drag for \" + str(T)+\"F and \"\n",
    "      + str(v) + \" ft/s:\\n\",testCase)\n",
    "\n",
    "\n"
   ]
  },
  {
   "cell_type": "code",
   "execution_count": 136,
   "metadata": {},
   "outputs": [
    {
     "name": "stdout",
     "output_type": "stream",
     "text": [
      "60.75 5.7493276817149415\n",
      "Coef* Fin: 0.0022691559124973977\n",
      "Coef Fin: 0.02397692901078442\n",
      "Coef Int: 0.009610784347728102\n"
     ]
    }
   ],
   "source": [
    "#Drag for the fins\n",
    "R_fin = reynolds(32,400,(6/12))\n",
    "#print(R_fin)\n",
    "tipChord = 0.125/4.5\n",
    "CfFin = CfLamSolve(R_fin)\n",
    "#print(\"Cf:\",CfFin)\n",
    "CDStar = 2 * CfFin*(1 + 2*tipChord)\n",
    "Sf = ((6*4.5*0.5) + (4.5*3*0.5))*3 #sq in\n",
    "Sbt = 1.3528**2 * np.pi #sq in\n",
    "print(Sf,Sbt)\n",
    "CD0 = CDStar * (Sf/Sbt)\n",
    "print(\"Coef* Fin:\",CDStar)\n",
    "print(\"Coef Fin:\",CD0)\n",
    "\n",
    "#Interface Drag\n",
    "CDint = CDStar * ((6*D)/(2 * Sbt)) * 3\n",
    "print(\"Coef Int:\",CDint)\n"
   ]
  },
  {
   "cell_type": "code",
   "execution_count": 117,
   "metadata": {},
   "outputs": [
    {
     "data": {
      "text/plain": [
       "0.07261503845998567"
      ]
     },
     "execution_count": 117,
     "metadata": {},
     "output_type": "execute_result"
    }
   ],
   "source": [
    "#Base drag\n",
    "## This takes in the body drag as a parameter\n",
    "def baseDrag(bodyDrag):\n",
    "    Cdb = 0.029/np.sqrt(bodyDrag)\n",
    "    return(Cdb)\n",
    "baseDrag(0.15949345)"
   ]
  },
  {
   "cell_type": "code",
   "execution_count": 127,
   "metadata": {},
   "outputs": [
    {
     "name": "stdout",
     "output_type": "stream",
     "text": [
      "2.0800779483729293\n",
      "0.07616018501721855\n"
     ]
    }
   ],
   "source": [
    "def llDrag(lugLength,lugDiam):\n",
    "    Sll = (lugDiam/2)**2 * np.pi * lugLength\n",
    "    Sllw = Sll + ((lugDiam-0.0625)/2)**2 * np.pi * lugLength\n",
    "    print(Sllw)\n",
    "    CDLL = (1.2 * Sll + 0.0045*Sllw)/Sbt\n",
    "    return(CDLL)\n",
    "print(llDrag(6,0.5))"
   ]
  },
  {
   "cell_type": "code",
   "execution_count": 141,
   "metadata": {},
   "outputs": [
    {
     "data": {
      "text/plain": [
       "0.33339724348704"
      ]
     },
     "execution_count": 141,
     "metadata": {},
     "output_type": "execute_result"
    }
   ],
   "source": [
    "testCase + CD0 + CDint + 0.0726 + 0.0762"
   ]
  }
 ],
 "metadata": {
  "kernelspec": {
   "display_name": "Python 3",
   "language": "python",
   "name": "python3"
  },
  "language_info": {
   "codemirror_mode": {
    "name": "ipython",
    "version": 3
   },
   "file_extension": ".py",
   "mimetype": "text/x-python",
   "name": "python",
   "nbconvert_exporter": "python",
   "pygments_lexer": "ipython3",
   "version": "3.7.1"
  }
 },
 "nbformat": 4,
 "nbformat_minor": 2
}
