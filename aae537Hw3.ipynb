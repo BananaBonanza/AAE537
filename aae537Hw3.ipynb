{
 "cells": [
  {
   "cell_type": "markdown",
   "metadata": {},
   "source": [
    "# Justin Butler - AAE 537: HW3\n",
    "\n",
    "This assignment was created in Jupyter Notebook and compiled using $\\LaTeX$"
   ]
  },
  {
   "cell_type": "code",
   "execution_count": 1,
   "metadata": {},
   "outputs": [
    {
     "data": {
      "application/javascript": [
       "// Making sure the outputs display correctly\n",
       "IPython.OutputArea.prototype._should_scroll = function(lines) {\n",
       "    return false;\n",
       "}\n"
      ],
      "text/plain": [
       "<IPython.core.display.Javascript object>"
      ]
     },
     "metadata": {},
     "output_type": "display_data"
    }
   ],
   "source": [
    "%%javascript\n",
    "// Making sure the outputs display correctly\n",
    "IPython.OutputArea.prototype._should_scroll = function(lines) {\n",
    "    return false;\n",
    "}"
   ]
  },
  {
   "cell_type": "code",
   "execution_count": 2,
   "metadata": {},
   "outputs": [],
   "source": [
    "# Importing required packages for this homework\n",
    "import numpy as np\n",
    "import matplotlib.pyplot as plt\n",
    "from IPython.display import HTML, display\n",
    "import tabulate\n",
    "%matplotlib inline"
   ]
  },
  {
   "cell_type": "code",
   "execution_count": 10,
   "metadata": {},
   "outputs": [],
   "source": [
    "\"\"\" THIS CODE BLOCK CONTAINS ALL DEFINED FUNCTIONS FOR THIS ASSIGNMENT \"\"\"\n",
    "#Round to three decimals\n",
    "def rounds(number):\n",
    "    trunc = float('%.3f'% (number * 1000/1000))\n",
    "    return(trunc)\n",
    "#Convert from Bar to Atm\n",
    "def BAC(bar):\n",
    "    atm = bar * 0.986923\n",
    "    return(rounds(atm))\n",
    "#Isentropic total pressure\n",
    "def totalPres(Ps,M, gamma=1.4):\n",
    "    total = Ps * ((1+((gamma-1)/2)*M**2)**(gamma/(gamma-1)))\n",
    "    return(rounds(total))\n",
    "#Isentropic static pressure\n",
    "def statPres(Pt,M,gamma=1.4):\n",
    "    static = Pt / ((1+((gamma-1)/2)*M**2)**(gamma/(gamma-1)))\n",
    "    return(rounds(static))\n",
    "#Isentropic total temperature\n",
    "def totalTemp(Ts,M,gamma=1.4):\n",
    "    total = Ts * (1 + ((gamma-1)/2)*M**2)\n",
    "    return(rounds(total))\n",
    "#Isentropic static temperature\n",
    "def statTemp(Tt,M,gamma=1.4):\n",
    "    static = Tt / (1 + ((gamma-1)/2)*M**2)\n",
    "    return(rounds(static))\n",
    "#Tabulate method\n",
    "def buildTable(label,array,air):\n",
    "    newList = [label]\n",
    "    newList.append(air)\n",
    "    for item in array:\n",
    "        newList.append(item)\n",
    "    return(newList)"
   ]
  },
  {
   "cell_type": "markdown",
   "metadata": {},
   "source": [
    "## Problem 1\n",
    "\n",
    "To start problem 1, we will define all of the given values:"
   ]
  },
  {
   "cell_type": "code",
   "execution_count": 4,
   "metadata": {},
   "outputs": [],
   "source": [
    "## Given values from problem-statement\n",
    "mixRat = 3.8 #ox/fuel\n",
    "P_c = 40 #atm\n",
    "mDotE = 40 #kg/s\n",
    "T_a = 500 #K\n",
    "P_a = 1.0 #atm\n",
    "M_a = 1.5"
   ]
  },
  {
   "cell_type": "markdown",
   "metadata": {},
   "source": [
    "### Part i)\n",
    "The first code block utilizes the CEA wrapper to generate values for the rocket flow and the air flow. The second code block determines the nozzle exit area and flow conditions required to expand the rocket exhaust to the local air pressure."
   ]
  },
  {
   "cell_type": "code",
   "execution_count": 15,
   "metadata": {},
   "outputs": [
    {
     "data": {
      "text/html": [
       "<table>\n",
       "<tbody>\n",
       "<tr><td>                    </td><td>Airstream</td><td>Chamber</td><td>Throat  </td><td>Exit    </td></tr>\n",
       "<tr><td>Temperature (K)     </td><td>500      </td><td>3490.4 </td><td>3333.43 </td><td>1953.66 </td></tr>\n",
       "<tr><td>Total Temp (K)      </td><td>725.0    </td><td>3490.4 </td><td>3536.269</td><td>3740.443</td></tr>\n",
       "<tr><td>Pressure (atm)      </td><td>1.0      </td><td>40.0   </td><td>23.21   </td><td>1.0     </td></tr>\n",
       "<tr><td>Total Pres (atm)    </td><td>3.671    </td><td>40.0   </td><td>40.006  </td><td>38.243  </td></tr>\n",
       "<tr><td>Mach                </td><td>1.5      </td><td>0.0    </td><td>1.0     </td><td>2.904   </td></tr>\n",
       "<tr><td>Density (kg/cu m)   </td><td>0.3626   </td><td>3.1414 </td><td>1.9353  </td><td>0.14227 </td></tr>\n",
       "<tr><td>Molar Mass (g / mol)</td><td>28.97    </td><td>3490.4 </td><td>3536.269</td><td>3740.443</td></tr>\n",
       "<tr><td>Gamma               </td><td>1.4      </td><td>1.1255 </td><td>1.1217  </td><td>1.2169  </td></tr>\n",
       "</tbody>\n",
       "</table>"
      ],
      "text/plain": [
       "<IPython.core.display.HTML object>"
      ]
     },
     "metadata": {},
     "output_type": "display_data"
    }
   ],
   "source": [
    "\"\"\"\n",
    "A CEA wrapper for python requires a FORTRAN compiler,\n",
    "which as of 9/25 is not installed onto the computers \n",
    "in the Aero lab. I will endeavor to install it on my \n",
    "personal computer, but for now I will include this \n",
    "section of code.\n",
    "\"\"\"\n",
    "##### The order of the rocket values go: #####\n",
    "#####      CHAMBER - THROAT - EXIT       #####\n",
    "\n",
    "# Static Pressures in atm\n",
    "P = [BAC(40.530),BAC(23.518),BAC(1.0132)]\n",
    "# Static Temperature in K\n",
    "T = [3490.40, 3333.43, 1953.66]\n",
    "# rho values in kg/cu m\n",
    "rho = [3.1414, 1.9353, 0.14227]\n",
    "# Molecular weight\n",
    "mol = [22.494, 22.807, 22.807]\n",
    "# C_p values in kJ/(kg * K)\n",
    "C_p = [7.9264, 7.9101, 2.0456]\n",
    "# ratio of specific heats\n",
    "gamma = [1.1255, 1.1217, 1.2169]\n",
    "# mach numbers\n",
    "mach = [0.000, 1.000,  2.904]\n",
    "# Total Pressures in atm\n",
    "P0 = [totalPres(P[i],mach[i],gamma[i]) for i in range(len(P))]\n",
    "# Total Temperature in K\n",
    "T0 = [totalTemp(T[i],mach[i],gamma[i]) for i in range(len(T))]\n",
    "\n",
    "##### Air stream values #####\n",
    "T_0a = totalTemp(T_a,M_a)\n",
    "P_0a = totalPres(P_a,M_a)\n",
    "rho_a = 0.3626 #at T approximately 700 K\n",
    "\n",
    "## Tabulating values (C stands for 'chart')\n",
    "CT = buildTable(\"Temperature (K)\",T,T_a)\n",
    "CT0 = buildTable(\"Total Temp (K)\",T0,T_0a)\n",
    "CP = buildTable(\"Pressure (atm)\",P,P_a)\n",
    "CP0 = buildTable(\"Total Pres (atm)\",P0,P_0a)\n",
    "Cmach = buildTable(\"Mach\",mach,M_a)\n",
    "Crho = buildTable(\"Density (kg/cu m)\",rho,rho_a)\n",
    "Cmol = buildTable(\"Molar Mass (g / mol)\",T0, 28.97 )\n",
    "Cgamma = buildTable(\"Gamma\",gamma,1.4)\n",
    "\n",
    "table = [[\" \", \"Airstream\", \"Chamber\", \"Throat\", \"Exit\" ],\n",
    "         CT,CT0,CP,CP0,Cmach,Crho,Cmol,Cgamma\n",
    "        ]\n",
    "display(HTML(tabulate.tabulate(table, tablefmt='html')))"
   ]
  },
  {
   "cell_type": "markdown",
   "metadata": {},
   "source": [
    "For the second part of ***(i)***, we want to find the area of the exit in order to properly expand the flow to the airstream pressure. "
   ]
  },
  {
   "cell_type": "markdown",
   "metadata": {},
   "source": [
    "### Part ii)"
   ]
  },
  {
   "cell_type": "code",
   "execution_count": null,
   "metadata": {},
   "outputs": [],
   "source": []
  },
  {
   "cell_type": "markdown",
   "metadata": {},
   "source": [
    "## Problem 2\n",
    "\n",
    "For this problem, we will be solving this particular problem generally. That is, let $u_1, \\rho_1, \\gamma_1, T_1, \\mathcal{M}_1$ be the velocity, density, ratio of specific heats, static temperature, and molar mass of the upper stream. Also let $u_2, \\rho_2, \\gamma_2, T_2, \\mathcal{M}_2$ be the velocity, density, ratio of specific heats, static temperature, and molar mass of the lower stream. Without loss of generality, we will assume that $u_2 < u_1$ and that $\\rho_2 < \\rho_1$.\n",
    "\n",
    "With this assumption and these postulates, we will set several parameters for use throughout: \n",
    "\\begin{align*}\n",
    "r &= \\frac{u_2}{u_1}\\\\\n",
    "s &= \\frac{\\rho_2}{\\rho_1}\\\\\n",
    "\\lambda_s &= \\frac{(1-r)(1+\\sqrt{s})}{2(1+r\\sqrt{s})}\\\\\n",
    "\\sigma_0 &= 11\n",
    "\\end{align*}\n",
    "With these parameters set, we will now begin our analysis. We will begin with the differential equation of depth of the mixing layer for incompressible flow - that is:\n",
    "\\begin{equation}\n",
    "\\frac{db_i}{dx} = \\frac{\\sqrt{\\pi}}{\\sigma_0}\\lambda_s\n",
    "\\end{equation}\n",
    "This incompressible flow equation can be related to the equivalent compressible flow equation as follows:\n",
    "\\begin{equation}\n",
    "\\frac{\\frac{db_c}{dx}}{\\frac{db_i}{dx}} = 0.2 + 0.8e^{-3M_r^2}\n",
    "\\end{equation}\n",
    "where \n",
    "$$M_r = \\frac{2(u_1 - u_2)}{1 + \\sqrt{\\frac{\\gamma_2\\mathcal{M}_1T_2}{\\gamma_1\\mathcal{M}_2T_1}}}$$\n",
    "From this relation between copmressible and incompressible flow, we can perform the following steps to obtain a function of the mixing depth:\n",
    "\\begin{align*}\n",
    "\\frac{\\frac{db_c}{dx}}{\\frac{db_i}{dx}} &= 0.2 + 0.8e^{-3M_r^2}\\\\\n",
    "\\frac{db_c}{dx} &= \\frac{db_i}{dx}\\left(0.2 + 0.8e^{-3M_r^2}\\right)\\\\\n",
    "b(s) &= \\int_0^s \\frac{db_i}{dx}\\left(0.2 + 0.8e^{-3M_r^2}\\right) dx\\\\\n",
    "\\end{align*}\n",
    "Notice, however, that all of the terms within the integral are constant values - based on postulated values we declared at the beggining of this problem. Thus, the whole of the integral can be simplified thusly:\n",
    "\\begin{align*}\n",
    "\\int_0^s \\frac{db_i}{dx}\\left(0.2 + 0.8e^{-3M_r^2}\\right) dx &=  \\frac{db_i}{dx}\\left(0.2 + 0.8e^{-3M_r^2}\\right)\\int_0^s dx\\\\\n",
    "&= \\left(\\frac{\\sqrt{\\pi}}{\\sigma_0}\\lambda_s\\right)\\left(0.2 + 0.8e^{-3M_r^2}\\right)\\cdot s\n",
    "\\end{align*}\n",
    "Therefore, since the question asks us to find the length where the mixing layer is 1 cm, we set $b(x) = 0.1$ meter and obtain the following general equation:\n",
    "\\begin{equation}\n",
    "s = 0.1 \\cdot \\left[\\left(\\frac{\\sqrt{\\pi}}{\\sigma_0}\\lambda_s\\right)\\left(0.2 + 0.8e^{-3M_r^2}\\right)\\right]^{-1}\n",
    "\\end{equation}\n",
    "\n",
    "<div style=\"text-align: right\"> $\\blacksquare$ </div>"
   ]
  },
  {
   "cell_type": "markdown",
   "metadata": {},
   "source": [
    "## Problem 3"
   ]
  },
  {
   "cell_type": "code",
   "execution_count": null,
   "metadata": {},
   "outputs": [],
   "source": []
  }
 ],
 "metadata": {
  "kernelspec": {
   "display_name": "Python 3",
   "language": "python",
   "name": "python3"
  },
  "language_info": {
   "codemirror_mode": {
    "name": "ipython",
    "version": 3
   },
   "file_extension": ".py",
   "mimetype": "text/x-python",
   "name": "python",
   "nbconvert_exporter": "python",
   "pygments_lexer": "ipython3",
   "version": "3.7.1"
  }
 },
 "nbformat": 4,
 "nbformat_minor": 2
}
