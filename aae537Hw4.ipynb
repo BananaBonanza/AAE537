{
 "cells": [
  {
   "cell_type": "markdown",
   "metadata": {},
   "source": [
    "# Justin Butler\n",
    "## AAE 537: HW 4\n",
    "\n",
    "This assignment was created in Jupyter Notebook and formatted via $\\LaTeX$"
   ]
  },
  {
   "cell_type": "code",
   "execution_count": 1,
   "metadata": {},
   "outputs": [
    {
     "data": {
      "application/javascript": [
       "// Making sure the outputs display correctly\n",
       "IPython.OutputArea.prototype._should_scroll = function(lines) {\n",
       "    return false;\n",
       "}\n"
      ],
      "text/plain": [
       "<IPython.core.display.Javascript object>"
      ]
     },
     "metadata": {},
     "output_type": "display_data"
    }
   ],
   "source": [
    "%%javascript\n",
    "// Making sure the outputs display correctly\n",
    "IPython.OutputArea.prototype._should_scroll = function(lines) {\n",
    "    return false;\n",
    "}"
   ]
  },
  {
   "cell_type": "code",
   "execution_count": 2,
   "metadata": {},
   "outputs": [],
   "source": [
    "# Importing required packages for this homework\n",
    "import numpy as np\n",
    "import matplotlib.pyplot as plt\n",
    "#from IPython.display import HTML, display\n",
    "#import tabulate\n",
    "%matplotlib inline"
   ]
  },
  {
   "cell_type": "markdown",
   "metadata": {},
   "source": [
    "### i)\n",
    "For the first part of this assignment, I will be labeling out how to find the stagnation temperature at each station in the engine as well as the fuel/air ratios in the burner and afterburner. We will assume that q, $\\beta$, CPR, $C_p$, $\\Delta H_B$ (of the fuel), $\\dot{m}_0$, T$_t4$, and T$_t7$ are all known terms. We will also assume we know the efficiencies of the engine, that is, we know $\\eta_c, \\eta_b, \\eta_t, \\eta_{ab},$ and $\\eta_n$.\n",
    "\n",
    "#### Inlet\n",
    "For the inlet, we will use the use the atmospheric conditions at a given altitude as given by the atmospheric model NASA provides at https://www.grc.nasa.gov/WWW/k-12/airplane/atmosmet.html. \n",
    "\n",
    "From static pressure we can also find the mach. Assuming $\\gamma=1.33$ (or that $\\gamma$ is at least a known value) and assuming the ambient air acts like an ideal gas we know:\n",
    "$$M_0 = \\sqrt{\\frac{2\\cdot q}{\\gamma\\cdot P_{s0}}}$$\n",
    "\n",
    "Now with static temperature and mach, we find total temperature at the inlet as:\n",
    "$$T_{t0} = T_{s0} \\left(1 + \\frac{\\gamma-1}{2}M_0^2\\right)$$\n",
    "From this, we will assume an adiabatic intake - thus $T_{t0} = T_{t2}$. Next, by using the inlet recovery per Mil Std 5008B we can define the piecewise function for pressure ratio as:\n",
    "$\\frac{P_{t2}}{P_{t0}} = \\begin{cases}\n",
    "  1 & \\text{for }M_0 <  1\\\\\n",
    "  1 - 0.075(M_0-1)^{1.35} & \\text{for } 1< M_0 < 5\\\\\n",
    "  \\frac{800}{M_0^4+935} & \\text{for } M_0 > 5 \n",
    "\\end{cases}$\n",
    "\n",
    "Since stagnation pressure can be calculated as the sum of static and dynamic pressures, we find $P_{t0} = P_{s0} + q$ where $P_{s0}$ is the pressure found from the atmospheric model. From this we can find the total pressure at station 2 from $P_{t2} = P_{t0} \\cdot \\left(P_{t2}/P_{t0}\\right)$.\n",
    "#### Compressor\n",
    "\n",
    "For the compressor we can find the stagnation temperature and stagnation pressure for the air by:\n",
    "$$T_{t3} = T_{t2}\\left[1+\\frac{1}{\\eta_c}\\cdot\\left(CPR^{(\\gamma-1)/\\gamma}-1\\right)\\right]$$\n",
    "$$P_{t3} = P_{t2}\\cdot CPR$$\n",
    "\n",
    "We will also want to find the massflow running through the core. Since we know $\\beta$ and the inlet massflow $\\dot{m}$, the massflow going through the core would be:\n",
    "$$ \\dot{m}_c = \\frac{\\dot{m}}{\\beta+1}$$\n",
    "#### Burner\n",
    "\n",
    "Moving onto the burner, $T_{t4}$ is a given value and we will assume that $P_{t4} = P_{t3}$. We can find the fuel to air ratio by:\n",
    "$$f = \\frac{T_{t4} - T_{t3}}{\\Delta H_B}\\cdot C_p$$\n",
    "#### Turbine\n",
    "\n",
    "Station 5, within the figure, looks like it occurs before the re-mixing of the core and bypass streams. Thus, we will assume that the massflow out of the core at stage 5 is $\\dot{m}_c + \\dot{m}_f$. With this value, we will use powerbalance between the compressor and the turbine to determine the total temperature at the end of the turbine. Indeed:\n",
    "$$T_{t5} = T_{t4} - \\frac{\\dot{m}_c\\cdot C_p\\cdot(T_{t3}-T_{t2})}{(\\dot{m}_c+\\dot{m}_f)\\cdot C_p}$$\n",
    "And from this, we can use isentropic relations to find:\n",
    "$$P_{t5} = P_{t4}\\left(\\frac{T_{t5}}{T_{t4}}\\right)^\\frac{\\gamma}{(\\gamma-1)}$$\n",
    "#### Mixer\n",
    "\n",
    "Looking at the figure, by the time we reach station 6 the bypass flow has rejoined. Thus, the massflow now includes the bypass flow which we will need to account for. For this, we will perform weighted averages.\n",
    "$$T_{t6} = \\frac{\\dot{m}_b}{\\dot{m}_c+\\dot{m}_f+\\dot{m}_b}\\cdot T_{t2} + \\frac{\\dot{m}_c + \\dot{m}_f} {\\dot{m}_c+\\dot{m}_f+\\dot{m}_b} \\cdot T_{t5}$$\n",
    "$$P_{t6} = \\frac{\\dot{m}_b}{\\dot{m}_c+\\dot{m}_f+\\dot{m}_b}\\cdot P_{t2} + \\frac{\\dot{m}_c + \\dot{m}_f} {\\dot{m}_c+\\dot{m}_f+\\dot{m}_b} \\cdot P_{t5}$$\n",
    "#### Afterburner\n",
    "\n",
    "At the afterburner, $T_{t7}$ is a given value and we will again assume that $P_{t7}=P_{t6}$. Thus, the fuel to air ratio is:\n",
    "$$f_{ab} = \\frac{1-T_{t5}}{(\\Delta H_B/C_p) - T_{t7}}$$\n",
    "\n",
    "#### Nozzle\n",
    "\n",
    "A perfectly expanded nozzle means that $P_9 = P_0$ and that $P_{t9} = P_{t7}$. We will also assume this is an adiabatic process and thus $T_{t9} = T_{t7}$. We can then find the velocity at the exit by:\n",
    "$$V_9 = \\sqrt{2C_pT_{t7}\\left(1-\\left(\\frac{P_9}{P_{t7}}\\right)^\\frac{\\gamma-1}{\\gamma}\\right)}$$\n"
   ]
  },
  {
   "cell_type": "markdown",
   "metadata": {},
   "source": [
    "### ii)\n",
    "The following is the routine that solves for the engine conditions and specific thrust and fuel consumption at a given flight condition and known temperature limits."
   ]
  },
  {
   "cell_type": "code",
   "execution_count": 22,
   "metadata": {},
   "outputs": [
    {
     "name": "stdout",
     "output_type": "stream",
     "text": [
      "Input the value of altitude\n",
      "1\n",
      "Input the value of dynamic pressure\n",
      "1\n",
      "Input the value of Flow Bypass Ratio\n",
      "1\n",
      "Input the value of compressor Pressure Ratio\n",
      "1\n",
      "Input the value of ratio of specific heats\n",
      "1\n",
      "Input the value of total temperature at end of combustor\n",
      "1\n",
      "Input the value of total temperature at exit of the afterburner\n",
      "1\n",
      "Input the value of the differet efficiences\n",
      "  Compressor: \n",
      "1\n",
      "1\n",
      "  Burner: \n",
      "1\n",
      "1\n",
      "  Turbine: \n",
      "1\n",
      "1\n",
      "  Afterburner: \n",
      "11\n",
      "11\n",
      "  Nozzle: \n",
      "12\n",
      "12\n",
      "Input the value of Heating value of the fuel\n",
      "1\n",
      "[1.0, 1.0, 1.0, 1.0, 1.0, 1.0, 1.0, ['Compressor: ', 'Burner: ', 'Turbine: ', 'Afterburner: ', 'Nozzle: '], 1.0]\n"
     ]
    }
   ],
   "source": [
    "class engine:\n",
    "    def help():\n",
    "        print(\"Engine Class:\")\n",
    "        print(\"The engine class takes as input several parameters pertaining to a \\n\"\n",
    "             \"gas turbine engine and calculates information from those starting parameters.\\n\"\n",
    "             \"The required inputs are in the following order:\\n\"\n",
    "              \"1. Altitude\\n\"\n",
    "              \"2. dynamic pressure\\n\"\n",
    "              \"3. Flow Bypass Ratio \\n\"\n",
    "              \"4. Compressor Pressure Ratio \\n\"\n",
    "              \"5. ratio of specific heats\\n\"\n",
    "              \"6. Total temperature at end of combustor\\n\"\n",
    "              \"7. Total temperature at exit of the afterburner\\n\"\n",
    "              \"8. A 5 element list containing the efficiences (c,b,t,ab,n)\\n\"\n",
    "              \"9. Heating value of the fuel\"\n",
    "             )\n",
    "        print(\"\\nThese values will be input as values after the variable is defined.\\n\"\n",
    "        \"The program will then run and generate values. These include arrays of temperatures,\\n\"\n",
    "        \"pressures, mach, areas, and values for the mass flows throughout. There will also be\\n\"\n",
    "        \"values calculated for the specific thrust and fuel consumption.\\n\")\n",
    "        print(\"For errors in this code, you can contact Justin on Github as user BananaBonanza\")\n",
    "    def __init__(self):\n",
    "        inputTerms = [\"altitude\", \"dynamic pressure\", \"Flow Bypass Ratio\", \n",
    "                      \"compressor Pressure Ratio\",\"ratio of specific heats\",\n",
    "                      \"total temperature at end of combustor\",\n",
    "                      \"total temperature at exit of the afterburner\",\n",
    "                      \"the differet efficiences\",\n",
    "                      \"Heating value of the fuel\"]\n",
    "        inputVal = []\n",
    "        for item in inputTerms:\n",
    "            print(\"Input the value of \" + item)\n",
    "            if item != \"the differet efficiences\":\n",
    "                inputVal.append(float(input()))\n",
    "            else:\n",
    "                effTerms = [\"Compressor: \", \"Burner: \", \"Turbine: \", \"Afterburner: \", \"Nozzle: \"]\n",
    "                effVal = []\n",
    "                for jtem in effTerms:\n",
    "                    print(\"  \" + jtem)\n",
    "                    eff = input()\n",
    "                    print(eff)\n",
    "                    effVal.append(eff)\n",
    "                inputVal.append(effVal)\n",
    "        print(inputVal)\n",
    "        \n",
    "        \n",
    "test = engine()\n",
    "    \n",
    "    "
   ]
  },
  {
   "cell_type": "markdown",
   "metadata": {},
   "source": [
    "A = (mdot R static_T)/(static P and V)"
   ]
  }
 ],
 "metadata": {
  "kernelspec": {
   "display_name": "Python 3",
   "language": "python",
   "name": "python3"
  },
  "language_info": {
   "codemirror_mode": {
    "name": "ipython",
    "version": 3
   },
   "file_extension": ".py",
   "mimetype": "text/x-python",
   "name": "python",
   "nbconvert_exporter": "python",
   "pygments_lexer": "ipython3",
   "version": "3.7.1"
  }
 },
 "nbformat": 4,
 "nbformat_minor": 2
}
