{
 "cells": [
  {
   "cell_type": "markdown",
   "metadata": {},
   "source": [
    "# Justin Butler"
   ]
  },
  {
   "cell_type": "code",
   "execution_count": 4,
   "metadata": {},
   "outputs": [
    {
     "data": {
      "application/javascript": [
       "// Making sure the outputs display correctly\n",
       "IPython.OutputArea.prototype._should_scroll = function(lines) {\n",
       "    return false;\n",
       "}\n"
      ],
      "text/plain": [
       "<IPython.core.display.Javascript object>"
      ]
     },
     "metadata": {},
     "output_type": "display_data"
    }
   ],
   "source": [
    "%%javascript\n",
    "// Making sure the outputs display correctly\n",
    "IPython.OutputArea.prototype._should_scroll = function(lines) {\n",
    "    return false;\n",
    "}"
   ]
  },
  {
   "cell_type": "code",
   "execution_count": 5,
   "metadata": {},
   "outputs": [],
   "source": [
    "import numpy as np\n",
    "import matplotlib.pyplot as plt\n",
    "%matplotlib inline"
   ]
  },
  {
   "cell_type": "code",
   "execution_count": 9,
   "metadata": {},
   "outputs": [],
   "source": [
    "# Atmospheric model created using the NASA equation found at:\n",
    "# https://www.grc.nasa.gov/WWW/k-12/airplane/atmosmet.html\n",
    "class atmosphere:\n",
    "    def __init__(self, val, valGiven = 0,units = \"SI\"):\n",
    "        #Convert from US to SI\n",
    "        if units != \"SI\" and valGiven == 0:\n",
    "            val = val / 3.281\n",
    "        if units != \"SI\" and valGiven == 1:\n",
    "            val = val * 0.04788\n",
    "        #0 implies the given value is an altitude\n",
    "        #1 implies the given value is a pressure\n",
    "        if valGiven == 0:\n",
    "            self.h = val\n",
    "        elif valGiven == 1:\n",
    "            self.P = val\n",
    "        else:\n",
    "            print(\"Not a valid 'valGiven' parameter.\")\n",
    "    def hCalc(self):\n",
    "        if self.h < 11000:\n",
    "            self.T = 15.04 - 0.00649*self.h\n",
    "            self.P = 101.29 * ((self.T + 273.1)/288.08)**(5.256)\n",
    "        elif self.h < 25000:\n",
    "            self.T = -56.46\n",
    "            self.P = 22.65 * np.exp(1.73 - 0.000157*self.h)\n",
    "        elif self.h > 24999:\n",
    "            self.T = -131.21 + 0.00299*self.h\n",
    "            self.P = 2.488 * ((self.T + 273.1)/216.6)**(-11.388)\n",
    "        self.rho = self.P / (0.2869 * (self.T + 273.1))\n",
    "    def PCalc(self):\n",
    "        if self.P > 22.632:\n",
    "            self.T = (288.08*(self.P/101.29)**(1/5.256))-273.1\n",
    "            self.h = (self.T - 15.04)/(-0.00649)\n",
    "        elif self.P > 0.1113586:\n",
    "            self.T = -56.46\n",
    "            self.h = (1.73 - np.log((self.P/22.65)))/(0.000157)\n",
    "        else:\n",
    "            self.T = (216.6*(self.P/2.488)**(1/(-11.388)))-273.1\n",
    "            self.h = (self.T + 131.21)/0.00299\n",
    "        self.rho = self.P / (0.2869 * (self.T + 273.1))"
   ]
  },
  {
   "cell_type": "code",
   "execution_count": 10,
   "metadata": {},
   "outputs": [],
   "source": [
    "# ISENTROPIC RELATIONS\n",
    "def totalPres(Ps, M,gamma=1.4):\n",
    "    total = Ps * ((1+((gamma-1)/2)*M**2)**(gamma/(gamma-1)))\n",
    "    return(total)\n",
    "def statPres(Pt, M, gamma=1.4):\n",
    "    static = Pt / ((1+((gamma-1)/2)*M**2)**(gamma/(gamma-1)))\n",
    "    return(static)\n",
    "def totalTemp(Ts, M, gamma=1.4):\n",
    "    total = Ts * ((1+((gamma-1)/2)*M**2))\n",
    "    return(total)\n",
    "def statTemp(Tt, M, gamma=1.4):\n",
    "    static = Tt / ((1+((gamma-1)/2)*M**2))\n",
    "    return(static)"
   ]
  },
  {
   "cell_type": "code",
   "execution_count": 7,
   "metadata": {},
   "outputs": [],
   "source": [
    "## SETTING UP SOME FUNCTIONS FOR THE PROBLEM ##\n",
    "def dmDot(x):\n",
    "    a = (np.pi /2)*(2.9/3)\n",
    "    dmDot = a * np.sin(np.pi*x)\n",
    "    return(dmDot)\n",
    "def CpAir(T):\n",
    "    coef = [1.0575*10**3, -4.489*10**(-1),\n",
    "            1.1407*10**(-3),-7.9999*10**(-7),\n",
    "            1.9327*10**(-10)]\n",
    "    Cp = 0\n",
    "    for i in range(len(coef)):\n",
    "        Cp+=coef[i]*(T**i)\n",
    "    return(Cp)\n",
    "def CpH2O(T):\n",
    "    if T>500 and T<1700:\n",
    "        coef = [30.092, 6.832514,\n",
    "                .793435,-2.33448,\n",
    "                0.082139]\n",
    "    elif T>1699 and T<6000:\n",
    "        coef = [41.96426, 8.622053,\n",
    "                -1.499780, 0.098119,\n",
    "                -11.15764]\n",
    "    else:\n",
    "        print(\"Invalid temperature for CpH20\")\n",
    "        return(None)\n",
    "    Cp = 0\n",
    "    for i in range(len(coef)):\n",
    "        Cp+=coef[i]*(T/1000)**i\n",
    "    return(Cp)\n",
    "\n",
    "    \n",
    "\n",
    "\n"
   ]
  },
  {
   "cell_type": "code",
   "execution_count": 11,
   "metadata": {},
   "outputs": [],
   "source": [
    "## SETTING UP PARAMETERS ##\n",
    "mDotAir = 100 #kg/s\n",
    "M0 = 6\n",
    "M3 = 2.5\n",
    "h = 100000/0.3048 #meters\n",
    "# Take these parameters and get more values\n",
    "atmos = atmosphere(h,valGiven=0)\n",
    "atmos.hCalc()\n",
    "P0 = atmos.P\n",
    "T0 = atmos.T\n",
    "rho0 = atmos.rho\n",
    "Pt0 = totalPres(P0,M0)\n",
    "Tt0 = totalTemp(T0,M0)\n",
    "Pt3 = Pt0*0.7\n",
    "Tt3 = Tt0\n",
    "P3 = statPres(Pt3,M3)\n",
    "T3 = statTemp(Tt3,M3)"
   ]
  },
  {
   "cell_type": "code",
   "execution_count": 8,
   "metadata": {},
   "outputs": [
    {
     "data": {
      "image/png": "[encoded data removed]",
      "text/plain": [
       "<Figure size 432x432 with 1 Axes>"
      ]
     },
     "metadata": {
      "needs_background": "light"
     },
     "output_type": "display_data"
    }
   ],
   "source": [
    "x1 = np.linspace(0,1,500)\n",
    "x2 = np.linspace(0,1,500)\n",
    "x3 = np.linspace(0,1,500)\n",
    "y1 = [dmDot(item) for item in x1]\n",
    "y2 = [dmDot(item) for item in x2]\n",
    "y3 = [dmDot(item) for item in x3]\n",
    "x2 = [item + 1 for item in x2]\n",
    "x3 = [item + 2 for item in x3]\n",
    "\n",
    "## GRAPHING TIME! ##\n",
    "plt.figure(figsize=(6,6))\n",
    "plt.rc('xtick', labelsize=16) \n",
    "plt.rc('ytick', labelsize=16)\n",
    "#\n",
    "plt.plot(x1,y1,'-')\n",
    "plt.plot(x2,y2,'-')\n",
    "plt.plot(x3,y3,'-')\n",
    "#\n",
    "plt.title('massflow vs x', fontsize=16)\n",
    "#\n",
    "#plt.ylim(0,1.5)\n",
    "#plt.xlabel('Massflow ratio: $m_{air}$/$m_{fuel}$', fontsize=14)\n",
    "#plt.ylabel('Exit Area $A_e$ ($m^2$)', fontsize=14)\n",
    "#plt.legend(loc=2, fontsize=16)\n",
    "\n",
    "plt.show()\n",
    "plt.close()"
   ]
  },
  {
   "cell_type": "code",
   "execution_count": null,
   "metadata": {},
   "outputs": [],
   "source": []
  }
 ],
 "metadata": {
  "kernelspec": {
   "display_name": "Python 3",
   "language": "python",
   "name": "python3"
  },
  "language_info": {
   "codemirror_mode": {
    "name": "ipython",
    "version": 3
   },
   "file_extension": ".py",
   "mimetype": "text/x-python",
   "name": "python",
   "nbconvert_exporter": "python",
   "pygments_lexer": "ipython3",
   "version": "3.6.9"
  }
 },
 "nbformat": 4,
 "nbformat_minor": 2
}
