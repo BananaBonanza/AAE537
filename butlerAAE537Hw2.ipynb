{
 "cells": [
  {
   "cell_type": "markdown",
   "metadata": {},
   "source": [
    "Stuff and things"
   ]
  },
  {
   "cell_type": "code",
   "execution_count": 12,
   "metadata": {},
   "outputs": [
    {
     "name": "stdout",
     "output_type": "stream",
     "text": [
      "betas: [34.30000000002494, 18.020000000013212]\n"
     ]
    }
   ],
   "source": [
    "import numpy as np\n",
    "\n",
    "machInitials = [2,4]\n",
    "gamma = 1.4\n",
    "\n",
    "beta = 45\n",
    "rampAngle = 5 #degrees\n",
    "dummy = 1\n",
    "t = 0\n",
    "DRC = np.pi/180\n",
    "obliqueAngles = []\n",
    "\n",
    "def obliqueShockCheck(s,M):\n",
    "    OSC_temp = [np.tan(rampAngle * DRC) * np.tan(s * DRC),\n",
    "                (((gamma+1)*M**2)/(2*(M**2*(np.sin(s * DRC))**2-1)))-1\n",
    "               ]\n",
    "    upstreamOfShockRatio = OSC_temp[0] * OSC_temp[1]\n",
    "    del(OSC_temp)\n",
    "    return(upstreamOfShockRatio)\n",
    "\n",
    "def obliqueShockMach(s,M):\n",
    "    OSM_temp = [ (np.sin((s-rampAngle) * DRC)\n",
    "\n",
    "def obliqueShock(sGuess,M):\n",
    "    #Ensure M input is a list\n",
    "    try:\n",
    "        M[0]\n",
    "    except:\n",
    "        M = [M]\n",
    "    \n",
    "    dummy = 1\n",
    "    t = 0\n",
    "    # For/While loop\n",
    "    for i in range(len(M)):\n",
    "        while dummy > t:\n",
    "            t = obliqueShockCheck(sGuess,M[i])\n",
    "            beta -= 0.001\n",
    "            if beta < 0: break\n",
    "        obliqueAngles.append(beta)\n",
    "        #reset the values\n",
    "        beta = 45\n",
    "        t = 0\n",
    "    \n",
    "    \n",
    "        \n",
    "def prandtlMeyer(M):\n",
    "    PM_temp = [sqrt((gamma+1)/(gamma-1)),\n",
    "               np.arctan(np.sqrt(((gamma-1)/(gamma+1))*(M**2 -1))),\n",
    "               np.arctan(np.sqrt(M**2 -1))]\n",
    "    prMach = PM_temp[0] * PM_temp[1] - PM_temp[2]\n",
    "    del(PM_temp)\n",
    "    return(prMach)\n",
    "\n",
    "\n",
    "###### MAIN #######    \n",
    "\n",
    "\n",
    "\n",
    "    "
   ]
  },
  {
   "cell_type": "code",
   "execution_count": 13,
   "metadata": {},
   "outputs": [
    {
     "name": "stdout",
     "output_type": "stream",
     "text": [
      "j break\n"
     ]
    }
   ],
   "source": [
    "i = 0\n",
    "j = 5\n",
    "while i < 10:\n",
    "    i += i\n",
    "    j += j\n",
    "    if j >10: \n",
    "        print(\"j break\")\n",
    "        break\n",
    "    "
   ]
  }
 ],
 "metadata": {
  "kernelspec": {
   "display_name": "Python 3",
   "language": "python",
   "name": "python3"
  },
  "language_info": {
   "codemirror_mode": {
    "name": "ipython",
    "version": 3
   },
   "file_extension": ".py",
   "mimetype": "text/x-python",
   "name": "python",
   "nbconvert_exporter": "python",
   "pygments_lexer": "ipython3",
   "version": "3.6.2"
  }
 },
 "nbformat": 4,
 "nbformat_minor": 2
}
