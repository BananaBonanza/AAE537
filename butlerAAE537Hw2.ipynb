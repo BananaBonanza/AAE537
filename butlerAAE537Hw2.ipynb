{
 "cells": [
  {
   "cell_type": "markdown",
   "metadata": {},
   "source": [
    "***JUSTIN BUTLER***"
   ]
  },
  {
   "cell_type": "code",
   "execution_count": 2,
   "metadata": {},
   "outputs": [
    {
     "data": {
      "application/javascript": [
       "IPython.OutputArea.prototype._should_scroll = function(lines) {\n",
       "    return false;\n",
       "}\n"
      ],
      "text/plain": [
       "<IPython.core.display.Javascript object>"
      ]
     },
     "metadata": {},
     "output_type": "display_data"
    }
   ],
   "source": [
    "%%javascript\n",
    "IPython.OutputArea.prototype._should_scroll = function(lines) {\n",
    "    return false;\n",
    "}"
   ]
  },
  {
   "cell_type": "markdown",
   "metadata": {},
   "source": [
    "***Part i)***"
   ]
  },
  {
   "cell_type": "code",
   "execution_count": 175,
   "metadata": {},
   "outputs": [
    {
     "name": "stdout",
     "output_type": "stream",
     "text": [
      "Total flow turning:\n",
      "21.342732939749716 degrees\n"
     ]
    }
   ],
   "source": [
    "import numpy as np\n",
    "import matplotlib.pyplot as plt\n",
    "import matplotlib.patches as patch\n",
    "%matplotlib inline\n",
    "\n",
    "machInitials = [2,4]\n",
    "\n",
    "gamma = 1.4\n",
    "beta = 45\n",
    "rampAngle = 5 #degrees\n",
    "dummy = 1\n",
    "t = 0\n",
    "DRC = np.pi/180\n",
    "RDC = 180/np.pi\n",
    "obliqueValues = []\n",
    "\n",
    "def obliqueShockCheck(s,M):\n",
    "    OSC_temp = [np.tan(rampAngle * DRC) * np.tan(s * DRC),\n",
    "                (((gamma+1)*M**2)/(2*(M**2*(np.sin(s * DRC))**2-1)))-1\n",
    "               ]\n",
    "    upstreamOfShockRatio = OSC_temp[0] * OSC_temp[1]\n",
    "    del(OSC_temp)\n",
    "    return(upstreamOfShockRatio)\n",
    "\n",
    "def obliqueShockMach(s,M):\n",
    "    obliqueMach = []\n",
    "    #print('s: ' + str(s))\n",
    "    for j in range(len(M)):\n",
    "        #print(\"s: \" + str(s[j][0]))\n",
    "        OSM_temp = [ (np.sin((s[j][0]-rampAngle) * DRC))**2,\n",
    "                    (gamma - 1)*M[j]**2*(np.sin(s[j][0] * DRC))**2 + 2,\n",
    "                    2*gamma*M[j]**2*(np.sin(s[j][0] * DRC))**2 - (gamma-1)\n",
    "                    ]\n",
    "        obliqueMach.append(np.sqrt((OSM_temp[1]/OSM_temp[2])/OSM_temp[0]))\n",
    "    del(OSM_temp)\n",
    "    return(obliqueMach)\n",
    "\n",
    "def obliqueShock(beta,M):\n",
    "    #Ensure M input is a list\n",
    "    try:\n",
    "        M[0]\n",
    "    except:\n",
    "        M = [M]\n",
    "    #\n",
    "    dummy = 1\n",
    "    t = 0\n",
    "    # For/While loop\n",
    "    for i in range(len(M)):\n",
    "        while dummy > t:\n",
    "            t = obliqueShockCheck(beta,M[i])\n",
    "            beta -= 0.001\n",
    "            if beta < 0: break\n",
    "        obliqueValues.append([beta])\n",
    "        #reset the values\n",
    "        beta = 45\n",
    "        t = 0\n",
    "        if len(obliqueValues) == len(M):\n",
    "            valTemp = obliqueShockMach(obliqueValues,M)\n",
    "            [obliqueValues[x].append(valTemp[x]) for x in range(len(M))]\n",
    "            del(valTemp)\n",
    "    return(obliqueValues)\n",
    "def prandtlMeyer(M):\n",
    "    PM_temp = [np.sqrt((gamma+1)/(gamma-1)),\n",
    "               np.arctan(np.sqrt(((gamma-1)/(gamma+1))*(M**2 -1))),\n",
    "               np.arctan(np.sqrt(M**2 -1))]\n",
    "    prMach = PM_temp[0] * PM_temp[1] - PM_temp[2]\n",
    "    del(PM_temp)\n",
    "    return(prMach)\n",
    "\n",
    "#-----------------------------------#\n",
    "######          MAIN          #######    \n",
    "#-----------------------------------#\n",
    "\n",
    "afterShock = obliqueShock(45, machInitials)\n",
    "beta4 = afterShock[1][0]\n",
    "M4 = afterShock[1][1]\n",
    "#print(\"[beta,mach] for M=2 then M=4 \\n\" + str(afterShock))\n",
    "turnAngle = prandtlMeyer(afterShock[0][1])\n",
    "print(\"Total flow turning:\\n\" + str(turnAngle * RDC) + \" degrees\")\n",
    "\n",
    "#Change angles to radians for remainder of code:\n",
    "beta4 = beta4 * DRC\n",
    "rampAngle = rampAngle * DRC"
   ]
  },
  {
   "cell_type": "markdown",
   "metadata": {},
   "source": [
    "***Part ii)***"
   ]
  },
  {
   "cell_type": "code",
   "execution_count": 176,
   "metadata": {},
   "outputs": [],
   "source": [
    "## RAMP INITIAL VALUES ##\n",
    "#Oblique Shock values (on design)\n",
    "m4ObShockLength = 1/(np.sin(beta4))\n",
    "muOb = (np.arcsin(1/M4))\n",
    "nuOb = prandtlMeyer(M4)\n",
    "\n",
    "\n",
    "#Cowl Coordinates\n",
    "cowlLip = [np.sqrt(m4ObShockLength**2 - 1),1]\n",
    "\n",
    "#Random Angles\n",
    "other = np.pi - muOb\n",
    "eta = np.pi - other - (beta4 - rampAngle)\n",
    "\n",
    "#Wedge Coordinates\n",
    "rampLength = (m4ObShockLength / np.sin(other)) * np.sin(eta)\n",
    "rampDim = [(rampLength * np.cos(rampAngle)), (rampLength * np.sin(rampAngle))]\n",
    "wedToCowl = np.sqrt(np.sum([(cowlLip[i] - rampDim[i])**2 for i in range(0,2)]))\n",
    "rampHat = wedToCowl * np.sin(muOb)\n",
    "rampH = 1 - rampDim[1]"
   ]
  },
  {
   "cell_type": "code",
   "execution_count": 177,
   "metadata": {
    "scrolled": true
   },
   "outputs": [],
   "source": [
    "def actualTurning():\n",
    "    vM4 = nuOb\n",
    "    #print(\"vM4: \" + str(vM4))\n",
    "    vM2 = turnAngle\n",
    "    delV = vM4 - vM2\n",
    "    #print(delV)\n",
    "    mIter = 1.8\n",
    "    vIter = vM2\n",
    "    while vIter < delV:\n",
    "        vIter = prandtlMeyer(mIter)\n",
    "        mIter += 0.000001\n",
    "    return([mIter, vIter])\n",
    "\n",
    "def xyCoordFunction(M):\n",
    "    temp = [M4/M,\n",
    "           2 + (gamma-1)*M**2,\n",
    "           2 + (gamma-1)*M4**2,\n",
    "           (gamma+1)/(2*(gamma-1))]\n",
    "    hHat = rampHat * temp[0] * (temp[1]/temp[2])**temp[3]\n",
    "    mu = np.arcsin(1/M)\n",
    "    nu = prandtlMeyer(M)\n",
    "    theta = rampAngle + nuOb - nu\n",
    "    h = (hHat*np.sin(theta+mu))/(np.cos((np.pi/2)-mu))\n",
    "    delX = (h/np.tan(mu+theta+nuOb-nu))\n",
    "    x = cowlLip[0] - (h/np.tan(mu+theta+nuOb-nu))\n",
    "    y = 1 - h\n",
    "    xy = [x,y]\n",
    "    return(xy)\n",
    "            \n",
    "   "
   ]
  },
  {
   "cell_type": "code",
   "execution_count": 178,
   "metadata": {},
   "outputs": [
    {
     "name": "stdout",
     "output_type": "stream",
     "text": [
      "Ending Mach Number: 2.50926200005473\n"
     ]
    }
   ],
   "source": [
    "#-----------------------------------#\n",
    "######          MAIN          #######    \n",
    "#-----------------------------------#\n",
    "\n",
    "\n",
    "## Calculating Actual Turning at Mach 4 ##\n",
    "actTurn = actualTurning()[0]\n",
    "print(\"Ending Mach Number: \" + str(actTurn))"
   ]
  },
  {
   "cell_type": "code",
   "execution_count": 186,
   "metadata": {},
   "outputs": [
    {
     "data": {
      "image/png": "[encoded data removed]",
      "text/plain": [
       "<Figure size 720x432 with 1 Axes>"
      ]
     },
     "metadata": {
      "needs_background": "light"
     },
     "output_type": "display_data"
    },
    {
     "name": "stdout",
     "output_type": "stream",
     "text": [
      "The apparant change in slope between the orange and blue lines has been\n",
      "looked at extensively and looks to be only the result of the odd scaling of the image.\n"
     ]
    }
   ],
   "source": [
    "#Lin-space for the mach numbers\n",
    "mLinRev = np.linspace(actTurn,afterShock[1][1], 100)\n",
    "#Correct Order\n",
    "mLin = [mLinRev[len(mLinRev) - (j+1)] for j in range(len(mLinRev))]\n",
    "\n",
    "#print(\"mLin\" + str(mLin))\n",
    "#generate x and y coordinates\n",
    "xyCoord = []\n",
    "i = 0\n",
    "for item in mLin:\n",
    "    xyCoord.append(xyCoordFunction(item))\n",
    "\n",
    "\n",
    "\n",
    "#GRAPHING TIME\n",
    "plt.figure(figsize=(10,6))\n",
    "plt.rc('xtick', labelsize=16) \n",
    "plt.rc('ytick', labelsize=16)\n",
    "#\n",
    "plt.plot([0,rampDim[0]], [0,rampDim[1]], '-', label=\"wedge\")\n",
    "plt.plot([item[0] for item in xyCoord], [jtem[1] for jtem in xyCoord], '-', label='ramp')\n",
    "plt.plot(cowlLip[0],cowlLip[1],'ro')\n",
    "\n",
    "#plt.title('Mach number to altitude', fontsize=16)\n",
    "\n",
    "#plt.ylim(0,1.5)\n",
    "plt.xlabel('x-coord')\n",
    "plt.ylabel('y-coord')\n",
    "plt.legend(loc=2, fontsize=16)\n",
    "\n",
    "plt.show()\n",
    "plt.close()\n",
    "\n",
    "print(\"The apparant change in slope between the orange and blue lines has been\")\n",
    "print(\"looked at extensively and looks to be only the result of the odd scaling of the image.\")\n"
   ]
  },
  {
   "cell_type": "markdown",
   "metadata": {},
   "source": [
    "***Part iii)***"
   ]
  },
  {
   "cell_type": "code",
   "execution_count": 187,
   "metadata": {},
   "outputs": [
    {
     "data": {
      "image/png": "[encoded data removed]",
      "text/plain": [
       "<Figure size 720x432 with 1 Axes>"
      ]
     },
     "metadata": {
      "needs_background": "light"
     },
     "output_type": "display_data"
    }
   ],
   "source": [
    "'''\n",
    "The closest point dictates the duct height, as the rest of the distances will be of equal length going up\n",
    "the duct. So we need a radius, R = 4 * duct height, and then we draw a circle and adjust it so the arc\n",
    "only goes up to the horizontal.\n",
    "'''\n",
    "#Solving for the parameters of our circle, using the coordinates given\n",
    "phi = rampAngle + nuOb - prandtlMeyer(mLin[-1])\n",
    "lastCoord = [xyCoord[-1][0],xyCoord[-1][1]]\n",
    "\n",
    "def distance(p1, p2):\n",
    "    d = np.sqrt((p1[0] - p2[0])**2 + (p1[1] - p2[1])**2)\n",
    "    return(d)\n",
    "\n",
    "def findingDuct():\n",
    "    x = []\n",
    "    y = []\n",
    "    d = []\n",
    "    x.append(lastCoord[0])\n",
    "    y.append(lastCoord[1])\n",
    "    d.append(distance(lastCoord,cowlLip))\n",
    "    x.append(x[0]+0.001)\n",
    "    y.append(y[0]+0.001*np.tan(phi))\n",
    "    d.append(distance([x[1],y[1]],cowlLip))\n",
    "    i = 1\n",
    "    while d[i] < d[i-1]:\n",
    "        x.append(x[i]+0.0001)\n",
    "        y.append(y[i]+0.0001*np.tan(phi))\n",
    "        d.append(distance([x[i+1],y[i+1]],cowlLip))\n",
    "        i += 1\n",
    "        if i > 1000000:\n",
    "            break\n",
    "    return([x[-2],y[-2],d[-2]])\n",
    "\n",
    "normDuct = findingDuct()\n",
    "\n",
    "## Creating the Circle ##\n",
    "circCent = [normDuct[0] + 4*normDuct[2]*np.sin(phi),\n",
    "         normDuct[1] - 4*normDuct[2]*np.cos(phi)]\n",
    "arcAng = np.linspace((np.pi/2 + phi) - 2*np.pi, (-1*3*np.pi)/2, 100)\n",
    "circX = (4*normDuct[2])*np.cos(arcAng) + circCent[0]\n",
    "circY = (4*normDuct[2])*np.sin(arcAng) + circCent[1]\n",
    "outCircX = (5*normDuct[2])*np.cos(arcAng) + circCent[0]\n",
    "outCircY = (5*normDuct[2])*np.sin(arcAng) + circCent[1]\n",
    "\n",
    "## Throat section ##\n",
    "throatLength = normDuct[2] * 10 * ((machInitials[1]-1)/2.2)**0.5\n",
    "endThroatInner = [circX[-1] + throatLength,\n",
    "                circY[-1]]\n",
    "endThroatOuter = [outCircX[-1] + throatLength,\n",
    "                 outCircY[-1]]\n",
    "\n",
    "#GRAPHING TIME\n",
    "\n",
    "plt.figure(figsize=(10,6))\n",
    "plt.rc('xtick', labelsize=16) \n",
    "plt.rc('ytick', labelsize=16)\n",
    "#\n",
    "plt.plot([0,xyCoord[0][0]], [0,xyCoord[0][1]], '-', label=\"wedge\")\n",
    "plt.plot([item[0] for item in xyCoord], [jtem[1] for jtem in xyCoord], '-', label='ramp')\n",
    "plt.plot(xyCoord[-1][0],xyCoord[-1][1],'ro', color = 'green')\n",
    "plt.plot(cowlLip[0],cowlLip[1],'ro')\n",
    "plt.plot(normDuct[0],normDuct[1],'ro', color = 'pink')\n",
    "plt.plot([xyCoord[-1][0],normDuct[0]],[xyCoord[-1][1],normDuct[1]],'-', label=\"staight piece\")\n",
    "plt.plot(circX,circY,'-',color='blue')\n",
    "plt.plot(outCircX,outCircY,'-',color='blue')\n",
    "plt.plot([circX[-1],endThroatInner[0]],[circY[-1],endThroatInner[1]],'-', color='red', label=\"throat\" )\n",
    "plt.plot([outCircX[-1],endThroatOuter[0]],[outCircY[-1],endThroatOuter[1]],'-', color='red' )\n",
    "\n",
    "#plt.title('Mach number to altitude', fontsize=16)\n",
    "\n",
    "#plt.xlim(.5,1)\n",
    "#plt.ylim(0,.5)\n",
    "plt.xlabel('x-coord')\n",
    "plt.ylabel('y-coord')\n",
    "plt.legend(loc=2, fontsize=16)\n",
    "\n",
    "plt.show()\n",
    "plt.close()"
   ]
  },
  {
   "cell_type": "code",
   "execution_count": null,
   "metadata": {},
   "outputs": [],
   "source": []
  }
 ],
 "metadata": {
  "kernelspec": {
   "display_name": "Python 3",
   "language": "python",
   "name": "python3"
  },
  "language_info": {
   "codemirror_mode": {
    "name": "ipython",
    "version": 3
   },
   "file_extension": ".py",
   "mimetype": "text/x-python",
   "name": "python",
   "nbconvert_exporter": "python",
   "pygments_lexer": "ipython3",
   "version": "3.7.1"
  }
 },
 "nbformat": 4,
 "nbformat_minor": 1
}
