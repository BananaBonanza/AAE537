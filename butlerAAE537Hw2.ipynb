{
 "cells": [
  {
   "cell_type": "markdown",
   "metadata": {},
   "source": [
    "Stuff and things"
   ]
  },
  {
   "cell_type": "code",
   "execution_count": 2,
   "metadata": {},
   "outputs": [
    {
     "data": {
      "application/javascript": [
       "IPython.OutputArea.prototype._should_scroll = function(lines) {\n",
       "    return false;\n",
       "}\n"
      ],
      "text/plain": [
       "<IPython.core.display.Javascript object>"
      ]
     },
     "metadata": {},
     "output_type": "display_data"
    }
   ],
   "source": [
    "%%javascript\n",
    "IPython.OutputArea.prototype._should_scroll = function(lines) {\n",
    "    return false;\n",
    "}"
   ]
  },
  {
   "cell_type": "markdown",
   "metadata": {},
   "source": [
    "***Part i)***"
   ]
  },
  {
   "cell_type": "code",
   "execution_count": 6,
   "metadata": {},
   "outputs": [
    {
     "name": "stdout",
     "output_type": "stream",
     "text": [
      "Total flow turning:\n",
      "21.342732939749716 degrees\n"
     ]
    }
   ],
   "source": [
    "import numpy as np\n",
    "import matplotlib.pyplot as plt\n",
    "import matplotlib.patches as patch\n",
    "%matplotlib inline\n",
    "\n",
    "machInitials = [2,4]\n",
    "\n",
    "gamma = 1.4\n",
    "beta = 45\n",
    "rampAngle = 5 #degrees\n",
    "dummy = 1\n",
    "t = 0\n",
    "DRC = np.pi/180\n",
    "RDC = 180/np.pi\n",
    "obliqueValues = []\n",
    "\n",
    "def obliqueShockCheck(s,M):\n",
    "    OSC_temp = [np.tan(rampAngle * DRC) * np.tan(s * DRC),\n",
    "                (((gamma+1)*M**2)/(2*(M**2*(np.sin(s * DRC))**2-1)))-1\n",
    "               ]\n",
    "    upstreamOfShockRatio = OSC_temp[0] * OSC_temp[1]\n",
    "    del(OSC_temp)\n",
    "    return(upstreamOfShockRatio)\n",
    "\n",
    "def obliqueShockMach(s,M):\n",
    "    obliqueMach = []\n",
    "    #print('s: ' + str(s))\n",
    "    for j in range(len(M)):\n",
    "        #print(\"s: \" + str(s[j][0]))\n",
    "        OSM_temp = [ (np.sin((s[j][0]-rampAngle) * DRC))**2,\n",
    "                    (gamma - 1)*M[j]**2*(np.sin(s[j][0] * DRC))**2 + 2,\n",
    "                    2*gamma*M[j]**2*(np.sin(s[j][0] * DRC))**2 - (gamma-1)\n",
    "                    ]\n",
    "        obliqueMach.append(np.sqrt((OSM_temp[1]/OSM_temp[2])/OSM_temp[0]))\n",
    "    del(OSM_temp)\n",
    "    return(obliqueMach)\n",
    "\n",
    "def obliqueShock(beta,M):\n",
    "    #Ensure M input is a list\n",
    "    try:\n",
    "        M[0]\n",
    "    except:\n",
    "        M = [M]\n",
    "    #\n",
    "    dummy = 1\n",
    "    t = 0\n",
    "    # For/While loop\n",
    "    for i in range(len(M)):\n",
    "        while dummy > t:\n",
    "            t = obliqueShockCheck(beta,M[i])\n",
    "            beta -= 0.001\n",
    "            if beta < 0: break\n",
    "        obliqueValues.append([beta])\n",
    "        #reset the values\n",
    "        beta = 45\n",
    "        t = 0\n",
    "        if len(obliqueValues) == len(M):\n",
    "            valTemp = obliqueShockMach(obliqueValues,M)\n",
    "            [obliqueValues[x].append(valTemp[x]) for x in range(len(M))]\n",
    "            del(valTemp)\n",
    "    return(obliqueValues)\n",
    "def prandtlMeyer(M):\n",
    "    PM_temp = [np.sqrt((gamma+1)/(gamma-1)),\n",
    "               np.arctan(np.sqrt(((gamma-1)/(gamma+1))*(M**2 -1))),\n",
    "               np.arctan(np.sqrt(M**2 -1))]\n",
    "    prMach = PM_temp[0] * PM_temp[1] - PM_temp[2]\n",
    "    del(PM_temp)\n",
    "    return(prMach)\n",
    "\n",
    "#-----------------------------------#\n",
    "######          MAIN          #######    \n",
    "#-----------------------------------#\n",
    "\n",
    "afterShock = obliqueShock(45, machInitials)\n",
    "beta4 = afterShock[1][0]\n",
    "M4 = afterShock[1][1]\n",
    "#print(\"[beta,mach] for M=2 then M=4 \\n\" + str(afterShock))\n",
    "turnAngle = prandtlMeyer(afterShock[0][1])\n",
    "print(\"Total flow turning:\\n\" + str(turnAngle * RDC) + \" degrees\")\n",
    "\n",
    "#Change angles to radians for remainder of code:\n",
    "beta4 = beta4 * DRC\n",
    "rampAngle = rampAngle * DRC"
   ]
  },
  {
   "cell_type": "markdown",
   "metadata": {},
   "source": [
    "***Part ii)***"
   ]
  },
  {
   "cell_type": "code",
   "execution_count": 37,
   "metadata": {},
   "outputs": [],
   "source": [
    "## RAMP INITIAL VALUES ##\n",
    "#Oblique Shock values (on design)\n",
    "m4ObShockLength = 1/(np.sin(beta4))\n",
    "muOb = (np.arcsin(1/M4))\n",
    "nuOb = prandtlMeyer(M4)\n",
    "\n",
    "\n",
    "#Cowl Coordinates\n",
    "cowlLip = [np.sqrt(m4ObShockLength**2 - 1),1]\n",
    "\n",
    "#Random Angles\n",
    "other = np.pi - muOb\n",
    "eta = np.pi - other - (beta4 - rampAngle)\n",
    "\n",
    "#Wedge Coordinates\n",
    "rampLength = (m4ObShockLength / np.sin(other)) * np.sin(eta)\n",
    "rampDim = [(rampLength * np.cos(rampAngle)), (rampLength * np.sin(rampAngle))]\n",
    "wedToCowl = np.sqrt(np.sum([(cowlLip[i] - rampDim[i])**2 for i in range(0,2)]))\n",
    "rampHat = wedToCowl * np.sin(muOb)\n",
    "rampH = 1 - rampDim[1]"
   ]
  },
  {
   "cell_type": "code",
   "execution_count": 38,
   "metadata": {
    "scrolled": true
   },
   "outputs": [],
   "source": [
    "def actualTurning():\n",
    "    vM4 = nuOb\n",
    "    #print(\"vM4: \" + str(vM4))\n",
    "    vM2 = turnAngle\n",
    "    delV = vM4 - vM2\n",
    "    #print(delV)\n",
    "    mIter = 1.8\n",
    "    vIter = vM2\n",
    "    while vIter < delV:\n",
    "        vIter = prandtlMeyer(mIter)\n",
    "        mIter += 0.000001\n",
    "    return([mIter, vIter])\n",
    "\n",
    "def xyCoordFunction(M):\n",
    "    hHat = []\n",
    "    x = []\n",
    "    y = []\n",
    "    mu = [(np.arcsin(1/item)) for item in M]\n",
    "    nu = [prandtlMeyer(item) for item in M]\n",
    "    theta = [(nu[i-1] - nu[i]) for i in range(1,len(M))]\n",
    "    for i in range(len(M)):\n",
    "        temp_Param = [M4/M[i],\n",
    "                     2 + (gamma - 1)*M[i]**2,\n",
    "                      2 + (gamma - 1)* M4**2,\n",
    "                      (gamma+1)/(2*(gamma-1))\n",
    "                     ]\n",
    "        if i == 0:\n",
    "            hHat.append(rampHat)\n",
    "            x.append(rampDim[0])\n",
    "            y.append(rampDim[1])\n",
    "            continue\n",
    "        else:\n",
    "            hHat.append(hHat[i-1]*temp_Param[0]*(temp_Param[1]/temp_Param[2])**temp_Param[3])\n",
    "            l = hHat[i]/np.sin(mu[i])\n",
    "            phi = mu[i] + theta[i-1] + rampAngle\n",
    "            hi = l * np.sin(phi)\n",
    "            delX = l * np.cos(phi)\n",
    "            y.append(1-hi)\n",
    "            x.append(cowlLip[0] - delX)\n",
    "            del(l,phi,hi,delX)\n",
    "    xy = [[x[i],y[i]] for i in range(len(x))]\n",
    "    return(xy)\n",
    "            \n",
    "            "
   ]
  },
  {
   "cell_type": "code",
   "execution_count": 39,
   "metadata": {},
   "outputs": [
    {
     "name": "stdout",
     "output_type": "stream",
     "text": [
      "Ending Mach Number: 2.50926200005473\n"
     ]
    },
    {
     "data": {
      "image/png": "[encoded data removed]",
      "text/plain": [
       "<Figure size 720x432 with 1 Axes>"
      ]
     },
     "metadata": {
      "needs_background": "light"
     },
     "output_type": "display_data"
    }
   ],
   "source": [
    "#-----------------------------------#\n",
    "######          MAIN          #######    \n",
    "#-----------------------------------#\n",
    "\n",
    "\n",
    "## Calculating Actual Turning at Mach 4 ##\n",
    "actTurn = actualTurning()[0]\n",
    "print(\"Ending Mach Number: \" + str(actTurn))\n",
    "\n",
    "#Lin-space for the mach numbers\n",
    "mLinRev = np.linspace(actTurn,afterShock[1][1], 100)\n",
    "#Correct Order\n",
    "mLin = [mLinRev[len(mLinRev) - (j+1)] for j in range(len(mLinRev))]\n",
    "\n",
    "\n",
    "#print(\"mLin\" + str(mLin))\n",
    "#generate x and y coordinates\n",
    "xyCoord = xyCoordFunction(mLin)\n",
    "\n",
    "\n",
    "\n",
    "\n",
    "#GRAPHING TIME\n",
    "plt.figure(figsize=(10,6))\n",
    "plt.rc('xtick', labelsize=16) \n",
    "plt.rc('ytick', labelsize=16)\n",
    "#\n",
    "plt.plot([0,xyCoord[0][0]], [0,xyCoord[0][1]], '-', label=\"wedge\")\n",
    "plt.plot([item[0] for item in xyCoord], [jtem[1] for jtem in xyCoord], '.', label='ramp')\n",
    "\n",
    "#plt.title('Mach number to altitude', fontsize=16)\n",
    "\n",
    "plt.ylim(0,1.5)\n",
    "plt.xlabel('x-coord')\n",
    "plt.ylabel('y-coord')\n",
    "plt.legend(loc=2, fontsize=16)\n",
    "\n",
    "plt.show()\n",
    "plt.close()\n"
   ]
  },
  {
   "cell_type": "code",
   "execution_count": 32,
   "metadata": {},
   "outputs": [
    {
     "ename": "NameError",
     "evalue": "name 'hHat' is not defined",
     "output_type": "error",
     "traceback": [
      "\u001b[1;31m---------------------------------------------------------------------------\u001b[0m",
      "\u001b[1;31mNameError\u001b[0m                                 Traceback (most recent call last)",
      "\u001b[1;32m<ipython-input-32-31c3ecdad965>\u001b[0m in \u001b[0;36m<module>\u001b[1;34m\u001b[0m\n\u001b[0;32m      1\u001b[0m \u001b[0mxyCoord\u001b[0m \u001b[1;33m=\u001b[0m \u001b[0mdelXdelY\u001b[0m\u001b[1;33m(\u001b[0m\u001b[0mmLinRev\u001b[0m\u001b[1;33m)\u001b[0m\u001b[1;33m\u001b[0m\u001b[1;33m\u001b[0m\u001b[0m\n\u001b[1;32m----> 2\u001b[1;33m \u001b[0mprint\u001b[0m\u001b[1;33m(\u001b[0m\u001b[0mhHat\u001b[0m\u001b[1;33m)\u001b[0m\u001b[1;33m\u001b[0m\u001b[1;33m\u001b[0m\u001b[0m\n\u001b[0m\u001b[0;32m      3\u001b[0m \u001b[1;31m#print(\"xy Coordinates:\\n\" + str(xyCoord))\u001b[0m\u001b[1;33m\u001b[0m\u001b[1;33m\u001b[0m\u001b[1;33m\u001b[0m\u001b[0m\n\u001b[0;32m      4\u001b[0m \u001b[1;33m\u001b[0m\u001b[0m\n\u001b[0;32m      5\u001b[0m \u001b[1;31m#print(xyCoord)\u001b[0m\u001b[1;33m\u001b[0m\u001b[1;33m\u001b[0m\u001b[1;33m\u001b[0m\u001b[0m\n",
      "\u001b[1;31mNameError\u001b[0m: name 'hHat' is not defined"
     ]
    }
   ],
   "source": [
    "xyCoord = delXdelY(mLinRev)\n",
    "print(hHat)\n",
    "#print(\"xy Coordinates:\\n\" + str(xyCoord))\n",
    "\n",
    "#print(xyCoord)\n",
    "#print(\"y1: \" + str(xyCoord[1][0]))\n",
    "\n",
    "#GRAPHING TIME\n",
    "plt.figure(figsize=(10,6))\n",
    "plt.rc('xtick', labelsize=16) \n",
    "plt.rc('ytick', labelsize=16)\n",
    "#\n",
    "plt.plot([0,xyCoord[0][0]], [0,xyCoord[0][1]], '-', label=\"wedge\")\n",
    "plt.plot([item[0] for item in xyCoord], [jtem[1] for jtem in xyCoord], '.', label='ramp')\n",
    "\n",
    "#plt.title('Mach number to altitude', fontsize=16)\n",
    "\n",
    "plt.ylim(0,1.5)\n",
    "plt.xlabel('x-coord')\n",
    "plt.ylabel('y-coord')\n",
    "plt.legend(loc=2, fontsize=16)\n",
    "\n",
    "plt.show()\n",
    "plt.close()"
   ]
  },
  {
   "cell_type": "markdown",
   "metadata": {},
   "source": [
    "***Part iii)***"
   ]
  },
  {
   "cell_type": "code",
   "execution_count": 8,
   "metadata": {},
   "outputs": [
    {
     "name": "stdout",
     "output_type": "stream",
     "text": [
      "0.6139657259302709\n",
      "theta: 26.342699994357872\n",
      "circle\n",
      "5.645964221705366\n",
      "-1.1013195869248973\n",
      "\n",
      " Checking ArcCos:\n",
      "3.871007505081134\n",
      "-0.7227425903680726\n",
      "---\n"
     ]
    },
    {
     "data": {
      "image/png": "[encoded data removed]",
      "text/plain": [
       "<Figure size 720x432 with 1 Axes>"
      ]
     },
     "metadata": {
      "needs_background": "light"
     },
     "output_type": "display_data"
    }
   ],
   "source": [
    "#Finding the closest point on the ramp\n",
    "lenToCowl = []\n",
    "for item in xyCoord:\n",
    "    dis = np.sqrt((item[0] - cowlLipCoord[0])**2 + (item[1] - cowlLipCoord[1])**2)\n",
    "    lenToCowl.append(dis)\n",
    "minLen = min(lenToCowl)\n",
    "minLenIndex = lenToCowl.index(minLen)\n",
    "closestRamp = [xyCoord[minLenIndex][0], xyCoord[minLenIndex][1]]\n",
    "print(minLen)\n",
    "\n",
    "'''\n",
    "This closest point dictates the duct height, as the rest of the distances will be of equal length going up\n",
    "the duct. So now we have a radius, R = 4 * duct height, so we draw a circle and adjust it so the arc\n",
    "only goes up to the horizontal.\n",
    "'''\n",
    "#Solving for the parameters of our circle, using the coordinates given\n",
    "theta = rampAngle + prandtlMeyer(M4) - prandtlMeyer(mLin[-1])\n",
    "print(\"theta: \" + str(theta))\n",
    "thetaToCirc = 90-theta\n",
    "circXCent = xyCoord[-1][0] + (4 * np.cos(thetaToCirc * DRC))\n",
    "circYCent = xyCoord[-1][1] - (4 * np.cos(thetaToCirc * DRC))\n",
    "print(\"circle\")\n",
    "print(circXCent)\n",
    "print(circYCent)\n",
    "\n",
    "print(\"\\n Checking ArcCos:\")\n",
    "print(xyCoord[-1][0])\n",
    "\n",
    "print((xyCoord[-1][0]-circXCent)/(4*minLen))\n",
    "print(\"---\")\n",
    "x = np.linspace(np.arccos(((xyCoord[-1][0]-circXCent)/(4*minLen)))-2*np.pi,-((3*np.pi)/2),100)\n",
    "#print(x)\n",
    "circX = (4*minLen)*np.cos(x) + circXCent\n",
    "circY = (4*minLen)*np.sin(x) + circYCent\n",
    "#GRAPHING TIME\n",
    "\n",
    "plt.figure(figsize=(10,6))\n",
    "plt.rc('xtick', labelsize=16) \n",
    "plt.rc('ytick', labelsize=16)\n",
    "#\n",
    "plt.plot([0,xyCoord[0][0]], [0,xyCoord[0][1]], '-', label=\"wedge\")\n",
    "plt.plot([item[0] for item in xyCoord], [jtem[1] for jtem in xyCoord], '.', label='ramp')\n",
    "plt.plot(closestRamp[0],closestRamp[1],'ro')\n",
    "plt.plot(cowlLipCoord[0],cowlLipCoord[1],'ro')\n",
    "plt.plot(circX,circY,'-',color='blue')\n",
    "\n",
    "#plt.title('Mach number to altitude', fontsize=16)\n",
    "\n",
    "#plt.xlim(0,6)\n",
    "#plt.ylim(-2,2)\n",
    "plt.xlabel('x-coord')\n",
    "plt.ylabel('y-coord')\n",
    "plt.legend(loc=2, fontsize=16)\n",
    "\n",
    "plt.show()\n",
    "plt.close()"
   ]
  },
  {
   "cell_type": "code",
   "execution_count": null,
   "metadata": {},
   "outputs": [],
   "source": []
  }
 ],
 "metadata": {
  "kernelspec": {
   "display_name": "Python 3",
   "language": "python",
   "name": "python3"
  },
  "language_info": {
   "codemirror_mode": {
    "name": "ipython",
    "version": 3
   },
   "file_extension": ".py",
   "mimetype": "text/x-python",
   "name": "python",
   "nbconvert_exporter": "python",
   "pygments_lexer": "ipython3",
   "version": "3.7.1"
  }
 },
 "nbformat": 4,
 "nbformat_minor": 1
}
