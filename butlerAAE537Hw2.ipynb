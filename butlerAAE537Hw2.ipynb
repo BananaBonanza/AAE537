{
 "cells": [
  {
   "cell_type": "markdown",
   "metadata": {
    "collapsed": false
   },
   "source": [
    "Stuff and things"
   ]
  },
  {
   "cell_type": "code",
   "execution_count": 34,
   "metadata": {
    "collapsed": false,
    "scrolled": true
   },
   "outputs": [
    {
     "name": "stdout",
     "output_type": "stream",
     "text": [
      "[beta,mach] for M=2 then M=4 \n",
      "[[34.30000000002494, 1.821410938255463], [18.020000000013212, 3.638826143894837]]\n",
      "flow turning:\n",
      "21.342732939749716 degrees\n",
      "ramp dimensions:\n",
      "(nan, nan)\n"
     ]
    },
    {
     "name": "stderr",
     "output_type": "stream",
     "text": [
      "/usr/local/lib/python3.6/dist-packages/ipykernel/__main__.py:89: RuntimeWarning: invalid value encountered in arcsin\n"
     ]
    }
   ],
   "source": [
    "import numpy as np\n",
    "\n",
    "machInitials = [2,4]\n",
    "\n",
    "gamma = 1.4\n",
    "beta = 45\n",
    "rampAngle = 5 #degrees\n",
    "dummy = 1\n",
    "t = 0\n",
    "DRC = np.pi/180\n",
    "RDC = 180/np.pi\n",
    "obliqueValues = []\n",
    "\n",
    "def obliqueShockCheck(s,M):\n",
    "    OSC_temp = [np.tan(rampAngle * DRC) * np.tan(s * DRC),\n",
    "                (((gamma+1)*M**2)/(2*(M**2*(np.sin(s * DRC))**2-1)))-1\n",
    "               ]\n",
    "    upstreamOfShockRatio = OSC_temp[0] * OSC_temp[1]\n",
    "    del(OSC_temp)\n",
    "    return(upstreamOfShockRatio)\n",
    "\n",
    "def obliqueShockMach(s,M):\n",
    "    obliqueMach = []\n",
    "    #print('s: ' + str(s))\n",
    "    for j in range(len(M)):\n",
    "        #print(\"s: \" + str(s[j][0]))\n",
    "        OSM_temp = [ (np.sin((s[j][0]-rampAngle) * DRC))**2,\n",
    "                    (gamma - 1)*M[j]**2*(np.sin(s[j][0] * DRC))**2 + 2,\n",
    "                    2*gamma*M[j]**2*(np.sin(s[j][0] * DRC))**2 - (gamma-1)\n",
    "                    ]\n",
    "        obliqueMach.append(np.sqrt((OSM_temp[1]/OSM_temp[2])/OSM_temp[0]))\n",
    "    del(OSM_temp)\n",
    "    return(obliqueMach)\n",
    "\n",
    "def obliqueShock(beta,M):\n",
    "    #Ensure M input is a list\n",
    "    try:\n",
    "        M[0]\n",
    "    except:\n",
    "        M = [M]\n",
    "    #\n",
    "    dummy = 1\n",
    "    t = 0\n",
    "    # For/While loop\n",
    "    for i in range(len(M)):\n",
    "        while dummy > t:\n",
    "            t = obliqueShockCheck(beta,M[i])\n",
    "            beta -= 0.001\n",
    "            if beta < 0: break\n",
    "        obliqueValues.append([beta])\n",
    "        #reset the values\n",
    "        beta = 45\n",
    "        t = 0\n",
    "        if len(obliqueValues) == len(M):\n",
    "            valTemp = obliqueShockMach(obliqueValues,M)\n",
    "            [obliqueValues[x].append(valTemp[x]) for x in range(len(M))]\n",
    "            del(valTemp)\n",
    "    return(obliqueValues)\n",
    "def prandtlMeyer(M):\n",
    "    PM_temp = [np.sqrt((gamma+1)/(gamma-1)),\n",
    "               np.arctan(np.sqrt(((gamma-1)/(gamma+1))*(M**2 -1))),\n",
    "               np.arctan(np.sqrt(M**2 -1))]\n",
    "    prMach = PM_temp[0] * PM_temp[1] - PM_temp[2]\n",
    "    del(PM_temp)\n",
    "    return(prMach)\n",
    "def delXdelY(M,xi,yi):\n",
    "    M0 = afterShock[1][1]\n",
    "    pMM0 = prandtlMeyer(M0)\n",
    "    DXDY_temp = [M0/M,\n",
    "                 2.+(gamma-1)*M**2,\n",
    "                 2.+(gamma-1)*M0**2,\n",
    "                 (gamma+1)/(2*(gamma-1)),\n",
    "                 (pMM0 - prandtlMeyer(M))\n",
    "                 ]\n",
    "    yVal = 1 - ((1 - wH) * (DXDY_temp[0]*(DXDY_temp[1]/DXDY_temp[2])**DXDY_temp[3]))\n",
    "    delX = (yVal - yi)/(np.tan(rampAngle + DXDY_temp[4]))\n",
    "    xVal = xi + delX\n",
    "    del(DXDY_temp)\n",
    "    return(xVal,yVal)\n",
    "\n",
    "\n",
    "###### MAIN #######    \n",
    "afterShock = obliqueShock(45, machInitials)\n",
    "print(\"[beta,mach] for M=2 then M=4 \\n\" + str(afterShock))\n",
    "turnAngle = prandtlMeyer(afterShock[0][1])\n",
    "print(\"flow turning:\\n\" + str(turnAngle * RDC) + \" degrees\")\n",
    "#ramp value\n",
    "#wedge height\n",
    "wH = np.sin(rampAngle) * (((1/(np.sin(afterShock[1][0])))/(np.sin(1-np.arcsin(afterShock[1][1]))))*np.sin(180-(180-np.arcsin(afterShock[1][1]))-(afterShock[1][0]-rampAngle)))\n",
    "ramp = delXdelY(afterShock[1][1],0,0)\n",
    "print(\"ramp dimensions:\\n\" + str(ramp))\n",
    "\n",
    "    "
   ]
  },
  {
   "cell_type": "code",
   "execution_count": 28,
   "metadata": {
    "collapsed": false
   },
   "outputs": [
    {
     "name": "stdout",
     "output_type": "stream",
     "text": [
      "[1, [5, 3, 2]]\n"
     ]
    }
   ],
   "source": [
   ]
  }
 ],
 "metadata": {
  "kernelspec": {
   "display_name": "Python 3 (system-wide)",
   "language": "python",
   "metadata": {
    "cocalc": {
     "description": "Python 3 programming language",
     "priority": 100,
     "url": "https://www.python.org/"
    }
   },
   "name": "python3"
  },
  "language_info": {
   "codemirror_mode": {
    "name": "ipython",
    "version": 3
   },
   "file_extension": ".py",
   "mimetype": "text/x-python",
   "name": "python",
   "nbconvert_exporter": "python",
   "pygments_lexer": "ipython3",
   "version": "3.6.8"
  }
 },
 "nbformat": 4,
 "nbformat_minor": 0
}